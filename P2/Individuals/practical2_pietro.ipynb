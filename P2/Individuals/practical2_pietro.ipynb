{
 "cells": [
  {
   "cell_type": "markdown",
   "metadata": {
    "id": "I7g0huYqdFF3"
   },
   "source": [
    "# Practical 2 : Generative and Discriminative Models"
   ]
  },
  {
   "cell_type": "markdown",
   "metadata": {
    "id": "rbWh-EsIwz_e"
   },
   "source": [
    "**On Discriminative vs. Generative classifiers: A comparison of logistic regression\n",
    "and naive Bayes**  \n",
    "*Andrew Y. Ng and Michael I. Jordan*  \n",
    "Advances in Neural Information Processing Systems (NIPS) 2001.\n",
    "\n",
    "The paper is available on OLAT. "
   ]
  },
  {
   "cell_type": "markdown",
   "metadata": {
    "id": "P4uFlzUuwz_e"
   },
   "source": [
    "You should read the Introduction and the Experiments sections. The goal of this practical is\n",
    "to qualitatively reproduce some of the experimental results in this paper. You are strongly\n",
    "encouraged to read the rest of the paper, which is rather short and straightforward to read,\n",
    "though some of you may want to skip the formal proofs."
   ]
  },
  {
   "cell_type": "markdown",
   "metadata": {
    "id": "s5tmGglzSIFT"
   },
   "source": [
    "## Initialize "
   ]
  },
  {
   "cell_type": "markdown",
   "metadata": {
    "id": "99O08zMQdS81"
   },
   "source": [
    "The following are functions created to automate a number of repetitive tasks."
   ]
  },
  {
   "cell_type": "code",
   "execution_count": 44,
   "metadata": {
    "id": "VItAX5VWbgQX"
   },
   "outputs": [],
   "source": [
    "def get_features_types(data,label) : # not useful\n",
    "    df=data.drop(label,axis=1)\n",
    "    listoffeatures = str(df.dtypes).split()[1::2][:-1]\n",
    "    for i in range(len(listoffeatures)):\n",
    "      if listoffeatures[i] == 'int64' :\n",
    "          listoffeatures[i] = 'b'\n",
    "      elif listoffeatures[i] == 'float64' : \n",
    "          listoffeatures[i] = 'r'\n",
    "      elif listoffeatures[i] == 'category':\n",
    "          listoffeatures[i] = 'c'\n",
    "    return listoffeatures\n",
    " \n",
    "def get_features_names(data, label) : #\n",
    "  feature=[]\n",
    "  for col in data.columns :\n",
    "    feature.append(col)\n",
    "  feature.remove(label)\n",
    "  feature.append(label)\n",
    "  return feature\n",
    "\n",
    "def scale_lasso (X_train,y_train,X_test) : #used in the dataset 5 and 6\n",
    "  scaler = StandardScaler()\n",
    "  scaler.fit(X_train)\n",
    "  sel_ = SelectFromModel(LogisticRegression(C=1, penalty='l1',solver='liblinear'))\n",
    "  sel_.fit(scaler.transform(X_train), y_train)\n",
    "  X_train_selected = sel_.transform(X_train)\n",
    "  X_test_selected = sel_.transform(X_test)\n",
    "  return X_train_selected, X_test_selected\n"
   ]
  },
  {
   "cell_type": "markdown",
   "metadata": {
    "id": "ZTTwYh8Swz_f"
   },
   "source": [
    "Here we import the libraries. "
   ]
  },
  {
   "cell_type": "code",
   "execution_count": 98,
   "metadata": {
    "id": "k4pJfeoKwz_f"
   },
   "outputs": [],
   "source": [
    "%matplotlib inline\n",
    "import pylab\n",
    "pylab.rcParams['figure.figsize'] = (10., 10.)\n",
    "import collections\n",
    "from itertools import count\n",
    "import matplotlib.pyplot as plt\n",
    "import scipy.stats as ss\n",
    "import pandas as pd\n",
    "import pickle as cp\n",
    "import numpy as np\n",
    "import seaborn as sns\n",
    "from sklearn.preprocessing import OneHotEncoder, OrdinalEncoder, LabelEncoder, LabelBinarizer, StandardScaler\n",
    "from sklearn.model_selection import train_test_split, StratifiedShuffleSplit\n",
    "from sklearn.feature_selection import mutual_info_classif, SelectFromModel\n",
    "from scipy.stats import chisquare, chi2_contingency, bernoulli, norm, multinomial\n",
    "\n",
    "from sklearn import linear_model\n",
    "from sklearn.preprocessing import StandardScaler, PolynomialFeatures \n",
    "from sklearn.linear_model import Ridge, Lasso "
   ]
  },
  {
   "cell_type": "markdown",
   "metadata": {
    "id": "ZfQfdPcewz_f"
   },
   "source": [
    "## Naïve Bayes Classifier"
   ]
  },
  {
   "cell_type": "markdown",
   "metadata": {
    "id": "8kaAPy5dwz_f"
   },
   "source": [
    "You should implement a Naïve Bayes Classifier directly in python. To keep your code tidy,\n",
    "we recommend implementing it as a class. Make sure that your classifier can handle binary, continuous and categorical features, and an arbitrary number of class labels. Suppose the data has 3\n",
    "different features, the first being binary, the second being continuous and the third being categorical, and that there are\n",
    "4 classes. Write an implementation that you can initialise as follows:\n",
    "\n",
    "    nbc = NBC(feature_types=['b', 'r', 'c'], num_classes=4)"
   ]
  },
  {
   "cell_type": "markdown",
   "metadata": {
    "id": "Hjujv_ySwz_f"
   },
   "source": [
    "Along the lines of classifiers provided in sklearn, you want to implement two more functions,\n",
    "**fit** and **predict**. \n",
    "Recall the joint distribution of a generative model: $p(\\mathbf{x}, y \\mid \\theta, \\pi) = p(y | \\pi) \\cdot p(\\mathbf{x} \\mid y, \\theta)$.\n",
    "The fit function is expected to estimate all the parameters ($\\theta$ and $\\pi$) of the NBC. The predict function is expected to compute the probabilities that the new input belongs to all classes and\n",
    "then return the class that has the largest probability.\n",
    "\n",
    "    nbc.fit(X_train, y_train)\n",
    "    ypredicted = nbc.predict(X_test)\n",
    "    test_accuracy = np.mean(ypredicted == ytest)"
   ]
  },
  {
   "cell_type": "markdown",
   "metadata": {
    "id": "kVkAqoGhwz_f"
   },
   "source": [
    "Before implementing NBC, we suggest you first implement the three types of the distributions of the parameters of NBC. Your implementation should have two functions: **estimate** and **get_probability**. The estimate function takes some data as input and computes the maximum likelihood estimators (MLE) for the parameters $\\theta$ of the distribution $p(x | \\theta)$. The get_probability function takes a new input value $x_{new}$ and returns $p(x_{new} | \\theta)$. For example, in the case of continuous features, we can use the Gaussian distribution. The estimate function will find the parameters $\\mu$ and $\\sigma$ for the Gaussian distribution with respect to the input data, and the function get_probability will return $\\mathcal{N}(x_{new} \\mid \\mu, \\sigma)$. \n",
    "\n",
    "![alt text](pics/mle_4.png)\n"
   ]
  },
  {
   "cell_type": "code",
   "execution_count": 112,
   "metadata": {
    "id": "Rig3SIUQwz_f"
   },
   "outputs": [],
   "source": [
    "class ContFeatureParam:\n",
    "    def estimate(self, X):\n",
    "        # TODO: Estimate the parameters for the Gaussian distribution \n",
    "        # so that it best describes the input data X\n",
    "        X = np.array(X, dtype=float)\n",
    "        if not np.isfinite(X).all(): #ignore when no NaN\n",
    "              X = X[np.isfinite(X)]           \n",
    "        \n",
    "        mean,var=ss.norm.fit(X)\n",
    "        self.mean=mean\n",
    "           \n",
    "        if var==0.0:\n",
    "            self.var=0.000001\n",
    "        else:\n",
    "            self.var=var\n",
    "   \n",
    "    def get_probability(self, val):\n",
    "        # TODO: returns the density value of the input value val\n",
    "        # Note the input value val could be a vector rather than a single value\n",
    "        prob_vec=ss.norm.logpdf(val, loc=self.mean, scale=self.var) \n",
    "        \n",
    "        return prob_vec\n",
    "        \n",
    "\n",
    "# Distribution for binary features\n",
    "class BinFeatureParam:\n",
    "    def estimate(self, X):\n",
    "        # TODO: Estimate the parameters for the Bernoulli distribution \n",
    "        # so that it best describes the input data X\n",
    "        # The code below is just for compilation. \n",
    "        # You need to replace it by your own code.\n",
    "        X = np.array(X, dtype=float)\n",
    "        if not np.isfinite(X).all(): #ignore when no NaN\n",
    "              X = X[np.isfinite(X)]   \n",
    "\n",
    "        self.p=(np.sum(X==1)+1)/float(2+X.size) #theoratical Laplace smoothing, k=1\n",
    "\n",
    "    def get_probability(self, val):\n",
    "        # TODO: returns the density value of the input value val\n",
    "        # The code below is just for compilation. \n",
    "        # You need to replace it by your own code.\n",
    "        rv = bernoulli(self.p)\n",
    "        \n",
    "        val = np.array(val, dtype=float)\n",
    "        if not np.isfinite(val).all(): #ignore when no NaN\n",
    "            idxNaN = np.argwhere(np.isnan(val)) \n",
    "            print(idxNaN)\n",
    "            prob_vec= rv.pmf(val)    \n",
    "        else :\n",
    "            prob_vec= rv.pmf(val)\n",
    "        \n",
    "        return prob_vec\n",
    "        \n",
    "\n",
    "# Distribution for categorical features\n",
    "class CatFeatureParam:\n",
    "    def estimate(self, X):\n",
    "        # TODO: Estimate the parameters for the Multinoulli distribution \n",
    "        # so that it best describes the input data X\n",
    "        # The code below is just for compilation. \n",
    "        # You need to replace it by your own code.\n",
    "        unique, counts = np.unique(X, return_counts=True)\n",
    "        self.p_vect=counts/np.sum(counts)\n",
    "        self.category=unique\n",
    "\n",
    "\n",
    "    def get_probability(self, val):\n",
    "        # TODO: returns the density value of the input value val\n",
    "        # The code below is just for compilation. \n",
    "        # You need to replace it by your own code.\n",
    "        count_cat=[]\n",
    "        for i in self.category:\n",
    "            count_cat.append(np.sum(val==i))\n",
    "        return ss.multinomial.logpmf(count_cat, n=val.size, p=self.p_vect)\n",
    "    "
   ]
  },
  {
   "cell_type": "markdown",
   "metadata": {
    "id": "iLqfL4f2wz_f"
   },
   "source": [
    "You can import statistic libraries for the implementation of the distributions. We recommend using the statistical functions provided by `scipy.stats`. Read the documentation here: https://docs.scipy.org/doc/scipy/reference/stats.html\n"
   ]
  },
  {
   "cell_type": "markdown",
   "metadata": {
    "id": "zNBP0-b9wz_f"
   },
   "source": [
    "Let us now implement a class for NBC. We'll keep it simple and try to follow the sklearn models. We'll have an init function, fit function and predict function."
   ]
  },
  {
   "cell_type": "markdown",
   "metadata": {
    "id": "gfh5omg2wz_f"
   },
   "source": [
    "**Hints for function fit**: Recall the joint distribution of a generative model: $p(\\mathbf{x}, y \\mid \\theta, \\pi) = p(y | \\pi) \\cdot p(\\mathbf{x} \\mid y, \\theta)$. \n",
    "The fit function will estimate the parameters for NBC based on the training data. \n",
    "Here we give you some hints how to estimate the $\\theta$ in $p(\\mathbf{x} \\mid y, \\theta)$. \n",
    "\n",
    "For each class $c$, we want to estimate the $\\theta_c$ for the distribution $p(\\mathbf{x} \\mid y = c, \\theta_c)$. \n",
    "Since the assumption of NBC that the features are conditionally independent given the class $c$, the class conditional distribution is a product of $D$ distributions, one for each feature: $p(\\mathbf{x} \\mid y = c, \\theta_c) = \\prod_{j}^{D} p(x_j \\mid y = c, \\theta_{jc})$. Hence, we need to estimate the $\\theta_{jc}$ based on the data with class $c$ and feature $j$. \n",
    "\n",
    "![alt text](pics/fit_4.png)\n"
   ]
  },
  {
   "cell_type": "markdown",
   "metadata": {
    "id": "Pe2z9PaLwz_f"
   },
   "source": [
    "**Hints for function predict**: The predict function should compute the probabilities $p(y = c \\mid \\mathbf{x}_{new}, \\pi, \\theta)$ for the new inputs $\\mathbf{x}_{new}$ on all classes by applying the Bayes rule:\n",
    "\n",
    "$$p(y = c \\mid \\mathbf{x}_{new}, \\pi, \\theta) = \\frac{p(y = c \\mid \\pi_c) \\cdot p(\\mathbf{x}_{new} \\mid y=c, \\theta)}{\\sum^{C}_{c'=1}p(y=c' \\mid \\pi_{c'}) \\cdot p(\\mathbf{x}_{new} \\mid y=c', \\theta_{c'})},$$\n",
    "\n",
    "and then return the class that has the largest probability:\n",
    "\n",
    "$$y_{predict} = \\underset{c}{arg\\,\\max} \\, {p(y = c \\mid \\mathbf{x}_{new}, \\theta_c)}.$$\n",
    "\n",
    "Here we give you some hints on the computation of $p(\\mathbf{x}_{new} \\mid y=c, \\theta_c)$. \n",
    "Due to the conditional independence assumption, we have $p(\\mathbf{x}_{new} \\mid y=c, \\theta_c) = \\prod_{j}^{D} p(x^j_{new} \\mid y = c, \\theta_{jc})$. Since we have got the parameters $\\theta_{jc}$ in the fit phase,  we can use them to compute the probabilities for the new data. \n",
    "\n",
    "![alt text](pics/predict_3.png)"
   ]
  },
  {
   "cell_type": "code",
   "execution_count": 47,
   "metadata": {
    "id": "t0mLCamHwz_f"
   },
   "outputs": [],
   "source": [
    "class NBC:\n",
    "    # Inputs:\n",
    "    #   feature_types: the array of the types of the features, e.g., feature_types=['r', 'r', 'r', 'r']\n",
    "    #   num_classes: number of classes of labels\n",
    "    def __init__(self, feature_types=[], num_classes=0):\n",
    "        ''' Initialization: Store distribution object for each feature and class \n",
    "            into  list \"self.X_rv_all_class\" \n",
    "            \"self.X_dist_all_class\": list of distribution using distribution class object\n",
    "                size= num_classes * num_features\n",
    "                First index gives class\n",
    "                Second index gives feature\n",
    "            \n",
    "        '''\n",
    "        #list of list where each inside list contain rv for each class label (Class*features)\n",
    "        self.X_dist_all_class=[]\n",
    "        for clas in range(num_classes):\n",
    "            X_dist_per_class=[]\n",
    "            for feat_type in feature_types:\n",
    "                if feat_type=='r':\n",
    "                    rv=ContFeatureParam()\n",
    "                elif feat_type=='b':\n",
    "                    rv=BinFeatureParam()\n",
    "                elif feat_type=='c':\n",
    "                    rv=CatFeatureParam()\n",
    "                else:\n",
    "                    print(\"Error:Unkown Feature type Detected\")\n",
    "                    raise\n",
    "                X_dist_per_class.append(rv)\n",
    "        \n",
    "            self.X_dist_all_class.append(X_dist_per_class)\n",
    "            \n",
    "        self.num_classes=num_classes\n",
    "        \n",
    "        self.y_dist=np.zeros(num_classes)\n",
    "        \n",
    "    \n",
    "    # The function uses the input data to estimate all the parameters of the NBC\n",
    "    # You should use the parameters based on the types of the features\n",
    "    def fit(self, X, y):\n",
    "        ''' Function: Calculates 𝜃𝑗𝑐 for each class and column by calling estimate method\n",
    "            of all rv objects intialized in __init__\n",
    "        '''\n",
    "        \n",
    "        for clas in range(self.num_classes):\n",
    "            idx= np.where(y == clas)\n",
    "            X_given_c=X[idx]\n",
    "            \n",
    "            for feat_idx in range(X.shape[1]):\n",
    "                \n",
    "                X_feat_given_c=X_given_c[:,feat_idx]\n",
    "                \n",
    "                self.X_dist_all_class[clas][feat_idx].estimate(X_feat_given_c)\n",
    "\n",
    "            self.y_dist[clas]=np.sum(y==clas)/y.size   \n",
    "        \n",
    "        \n",
    "    # The function takes the data X as input, and predicts the class for the data\n",
    "    def predict(self, X):\n",
    "        \n",
    "        prob_y_posterior=np.zeros((self.num_classes,X.shape[0]))\n",
    "        # print(prob_y_posterior.shape)\n",
    "\n",
    "        for clas in range(self.num_classes):\n",
    "            prob_y_c=np.zeros(X.shape[0])\n",
    "            prob_X_c=np.zeros(X.shape[0])\n",
    "            prob_y_c+= np.log(self.y_dist[clas])\n",
    "            \n",
    "            for feat in range(X.shape[1]):\n",
    "                prob_feat_c= self.X_dist_all_class[clas][feat].get_probability(X[:,feat])\n",
    "                \n",
    "                prob_X_c+=prob_feat_c\n",
    "        \n",
    "            prob_y_posterior[clas]= prob_y_c + prob_X_c\n",
    "            \n",
    "        #normalizing \n",
    "        prob_y_posterior=prob_y_posterior\n",
    "            \n",
    "        pred_class=np.argmax(prob_y_posterior,axis=0)\n",
    "        \n",
    "        return pred_class\n",
    "      "
   ]
  },
  {
   "cell_type": "markdown",
   "metadata": {
    "id": "Ui3IrATewz_f"
   },
   "source": [
    "**Implementation Issues**\n",
    "-  Fell free to add auxiliary functions. \n",
    "- Don't forget to compute $p(y=c | \\pi)$ \n",
    "- Your implementation should be able to handle missing values\n",
    "- The variance parameter for Gaussian distributions should never be exactly 0, so in\n",
    "case your calculated variance is 0, you may want to set it to a small value such as 1e − 6.\n",
    "Note that this is essential to ensure that your code never encounters division by zero or\n",
    "taking logarithms of 0 errors. Also, you want to ensure that the estimates for the parameter for the Bernoulli or Multinoulli random variables\n",
    "is never exactly 0 or 1. For this reason you should consider using Laplace smoothing (https://en.wikipedia.org/wiki/Additive_smoothing).\n",
    "---\n",
    "\n",
    "- Remember to do all the calculations in log space to avoid running into underflow issues. Read more: (Mur) Chapter 3.5.3\n",
    "- As far as possible use matrix operations. So assume that Xtrain, ytrain, Xtest will all\n",
    "be numpy arrays. Try and minimise your use of python loops. (In general, looping over\n",
    "classes or features is OK, but looping over data is probably not a good idea.)\n"
   ]
  },
  {
   "cell_type": "markdown",
   "metadata": {
    "id": "dgQCQu7xwz_f"
   },
   "source": [
    "You can use the below code to do sanity check of your implementation using the iris dataset. All features of the iris dataset are continuous, so you do not need to implement all types of feature parameters to check your code. \n",
    "\n",
    "You should expect your implementation has an accuracy larger than 90%. "
   ]
  },
  {
   "cell_type": "code",
   "execution_count": 48,
   "metadata": {
    "colab": {
     "base_uri": "https://localhost:8080/"
    },
    "id": "53rcOfTSwz_f",
    "outputId": "c24497aa-f023-4a9c-d7ff-7a1db6e43002"
   },
   "outputs": [
    {
     "name": "stdout",
     "output_type": "stream",
     "text": [
      "Accuracy: 0.9333333333333333\n"
     ]
    }
   ],
   "source": [
    "from sklearn.datasets import load_iris\n",
    "iris = load_iris()\n",
    "X, y = iris['data'], iris['target']\n",
    "\n",
    "N, D = X.shape\n",
    "Ntrain = int(0.8 * N)\n",
    "shuffler = np.random.permutation(N)\n",
    "Xtrain = X[shuffler[:Ntrain]]\n",
    "ytrain = y[shuffler[:Ntrain]]\n",
    "Xtest = X[shuffler[Ntrain:]]\n",
    "ytest = y[shuffler[Ntrain:]]\n",
    "\n",
    "nbc_iris = NBC(feature_types=['r', 'r', 'r', 'r'], num_classes=3)\n",
    "nbc_iris.fit(Xtrain, ytrain)\n",
    "yhat = nbc_iris.predict(Xtest)\n",
    "test_accuracy = np.mean(yhat == ytest)\n",
    "\n",
    "print(\"Accuracy:\", test_accuracy)"
   ]
  },
  {
   "cell_type": "markdown",
   "metadata": {
    "id": "8h0Km3KMwz_i"
   },
   "source": [
    "## Logistic Regression"
   ]
  },
  {
   "cell_type": "markdown",
   "metadata": {
    "id": "d7kL_sxzwz_i"
   },
   "source": [
    "For logistic regression, you should use the implementation in sklearn. Adding the following\n",
    "line will import the LR model.\n",
    "\n",
    "    from sklearn.linear_model import LogisticRegression"
   ]
  },
  {
   "cell_type": "markdown",
   "metadata": {
    "id": "xnezI-oiwz_i"
   },
   "source": [
    "Read the information provided on the following links to understand some details about how the\n",
    "logistic regression model is implemented in scikit-learn.\n",
    "- http://scikit-learn.org/stable/modules/linear_model.html#logistic-regression\n",
    "- http://scikit-learn.org/stable/modules/generated/sklearn.linear_model.LogisticRegression.html#sklearn.linear_model.LogisticRegression\n"
   ]
  },
  {
   "cell_type": "code",
   "execution_count": 49,
   "metadata": {
    "id": "YY_NRDU1VX0I"
   },
   "outputs": [],
   "source": [
    "from sklearn.linear_model import LogisticRegression\n",
    "\n",
    "class LR:\n",
    "\n",
    "    def fit(self, X, y):\n",
    "      self.clf=LogisticRegression(max_iter=10000000000000).fit(X,y)\n",
    "\n",
    "    def predict(self, X):\n",
    "      return self.clf.predict(X)"
   ]
  },
  {
   "cell_type": "markdown",
   "metadata": {
    "id": "ZQKIFK9wwz_i"
   },
   "source": [
    "## Comparing NBC and LR"
   ]
  },
  {
   "cell_type": "markdown",
   "metadata": {
    "id": "YTmpGxqvwz_i"
   },
   "source": [
    "### Experiments\n",
    "\n",
    "You will compare the classification error of the NBC and LR trained on increasingly\n",
    "larger training datasets. Because the datasets are so small, you should do this multiple times and\n",
    "average the classification error. One run should look as follows:\n",
    "- Shuffle the data, put 20% aside for testing.\n",
    "    \n",
    "    ```N, D = X.shape\n",
    "    Ntrain = int(0.8 * N)\n",
    "    shuffler = np.random.permutation(N)\n",
    "    Xtrain = X[shuffler[:Ntrain]]\n",
    "    ytrain = y[shuffler[:Ntrain]]\n",
    "    Xtest = X[shuffler[Ntrain:]]\n",
    "    ytest = y[shuffler[Ntrain:]]\n",
    "    \n",
    "    ```  \n",
    "\n",
    "\n",
    "- Train the classifiers with increasingly more data. For example, we can train classifiers with 10%, 20%, ..., 100% of the training data. For each case store the classification errors on the test set of the classifiers.\n",
    "\n",
    "You may want to repeat this with at least 200 random permutations (possibly as large as 1000)\n",
    "to average out the test error across the runs. In the end, you will get average test errors as a\n",
    "function of the size of the training data. Plot these curves for NBC and LR on the datasets."
   ]
  },
  {
   "cell_type": "code",
   "execution_count": 70,
   "metadata": {
    "id": "t65Sw7tdYlE4"
   },
   "outputs": [],
   "source": [
    "# inputs:\n",
    "#   nbc: Naive Bayes Classifier\n",
    "#   lr: Logistic Regression Classifier\n",
    "#   X, y: training data\n",
    "#   num_runs=200: we need repeat num_runs times and store average results\n",
    "#   num_splits=10: we want to compare the two models on increasingly larger training sets.\n",
    "#               num_splits defines the number of increasing steps. \n",
    "# outputs:\n",
    "#   the arrays of the test errors across the runs of the two classifiers \n",
    "def big_compareNBCvsLR(nbc, lr, X, y, num_runs, num_splits, isLasso):\n",
    "\n",
    "    'comparaison function for big data set (>400) '\n",
    "\n",
    "    tst_errs_nbc = np.zeros((num_splits))\n",
    "    tst_errs_lr = np.zeros((num_splits))\n",
    "    for runtimes in range(1, num_runs) :  \n",
    "      X_train, X_test, y_train, y_test = train_test_split(X, y, test_size=0.2, random_state=None)\n",
    "      if isLasso==True : X_train, X_test = scale_lasso(X_train,y_train, X_test)\n",
    "      if isinstance(y_train,(pd.core.series.Series)):  y_train=y_train.to_numpy()\n",
    "      if isinstance(y_test,(pd.core.series.Series)):  y_test=y_test.to_numpy()\n",
    "\n",
    "      for i in range(1,num_splits+1) :        \n",
    "        train_size = int(X_train.shape[0]*(i/num_splits))\n",
    "        X_train_used = X_train[:train_size, :]\n",
    "        y_train_used = y_train[:train_size]\n",
    "        \n",
    "        #nbc performance \n",
    "        nbc.fit(X_train_used,y_train_used)\n",
    "        yhat_nbc=nbc.predict(X_test)\n",
    "        tst_errs_nbc[i-1] += np.mean(yhat_nbc != y_test)\n",
    "\n",
    "        #lr performance\n",
    "        X_train_used = np.array(X_train_used, dtype=float)\n",
    "        if not np.isfinite(X_train_used).all(): \n",
    "            tst_errs_lr[i-1] = num_runs\n",
    "\n",
    "        else :\n",
    "            lr.fit(X_train_used, y_train_used)\n",
    "            yhat_lr=lr.predict(X_test)\n",
    "            tst_errs_lr[i-1] += np.mean(yhat_lr != y_test)\n",
    "\n",
    "\n",
    "    tst_errs_nbc/=num_runs\n",
    "    tst_errs_lr/=num_runs\n",
    "\n",
    "    return tst_errs_nbc, tst_errs_lr"
   ]
  },
  {
   "cell_type": "markdown",
   "metadata": {
    "id": "PNovRwU5YLcC"
   },
   "source": [
    "The following function implement the same procedure but for stratified shuffle sampling of small dataset. "
   ]
  },
  {
   "cell_type": "code",
   "execution_count": 67,
   "metadata": {
    "id": "r0Y_n9ETYKFS"
   },
   "outputs": [],
   "source": [
    "# inputs:\n",
    "#   nbc: Naive Bayes Classifier\n",
    "#   lr: Logistic Regression Classifier\n",
    "#   DataFrame : dataframe for stratified shuffle sampling\n",
    "#   LabelName, CorrFeatureName : strings for sss\n",
    "#   num_runs=200: we need repeat num_runs times and store average results\n",
    "#   num_splits=10: we want to compare the two models on increasingly larger training sets.\n",
    "#               num_splits defines the number of increasing steps. \n",
    "# outputs:\n",
    "#   the arrays of the test errors across the runs of the two classifiers \n",
    "def small_compareNBCvsLR(nbc, lr, DataFrame, LabelName, CorrFeatureName, num_runs, num_splits, isLasso):\n",
    "    tst_errs_nbc = np.zeros((num_splits))\n",
    "    tst_errs_lr = np.zeros((num_splits))\n",
    "    for runtimes in range(1, num_runs) :  \n",
    "      sss = StratifiedShuffleSplit(n_splits=num_splits, test_size=0.2, random_state=None)\n",
    "      for train_index, test_index in sss.split(DataFrame, DataFrame[CorrFeatureName]):\n",
    "        DataFrame_train = DataFrame.loc[train_index]\n",
    "        DataFrame_test = DataFrame.loc[test_index]\n",
    "\n",
    "      DataFrame_train = DataFrame_train.drop(CorrFeatureName, axis=1)\n",
    "      DataFrame_test = DataFrame_test.drop(CorrFeatureName, axis=1)\n",
    "\n",
    "      X_train = DataFrame_train.drop(LabelName, axis=1).to_numpy()\n",
    "      X_test = DataFrame_test.drop(LabelName, axis=1).to_numpy()\n",
    "      y_train = DataFrame_train[LabelName].to_numpy()\n",
    "      y_test = DataFrame_test[LabelName].to_numpy()\n",
    "      if isLasso==True : X_train, X_test = scale_lasso(X_train,y_train, X_test)\n",
    "\n",
    "      for i in range(1, num_splits+1) :        \n",
    "        train_size = int(X_train.shape[0]*(i/num_splits))\n",
    "        X_train_used = X_train[:train_size, :]\n",
    "        y_train_used = y_train[:train_size]\n",
    "        \n",
    "        #nbc performance \n",
    "        nbc.fit(X_train_used,y_train_used)\n",
    "        yhat_nbc=nbc.predict(X_test)\n",
    "        tst_errs_nbc[i-1] += np.mean(yhat_nbc != y_test)\n",
    "\n",
    "        #lr performance\n",
    "        X_train_used = np.array(X_train_used, dtype=float)\n",
    "        if not np.isfinite(X_train_used).all(): \n",
    "            tst_errs_lr[i-1] = num_runs\n",
    "\n",
    "        else :\n",
    "            lr.fit(X_train_used, y_train_used)\n",
    "            yhat_lr=lr.predict(X_test)\n",
    "            tst_errs_lr[i-1] += np.mean(yhat_lr != y_test)\n",
    "\n",
    "    tst_errs_nbc/=num_runs\n",
    "    tst_errs_lr/=num_runs\n",
    "\n",
    "    return tst_errs_nbc, tst_errs_lr"
   ]
  },
  {
   "cell_type": "markdown",
   "metadata": {
    "id": "wZHD5GRlwz_i"
   },
   "source": [
    "The utility function below defines the function for plotting. "
   ]
  },
  {
   "cell_type": "code",
   "execution_count": 52,
   "metadata": {
    "id": "0KCftsXRwz_i"
   },
   "outputs": [],
   "source": [
    "def makePlot(nbc_perf, lr_perf, title=None):\n",
    "    fig = plt.figure()\n",
    "    ax = fig.add_subplot(1, 1, 1)\n",
    "\n",
    "    ax.tick_params(axis='both', labelsize=20)\n",
    "\n",
    "    ax.set_xlabel('Percent of training data used', fontsize=20)\n",
    "    ax.set_ylabel('Classification Error', fontsize=20)\n",
    "    if title is not None: ax.set_title(title, fontsize=25)\n",
    "\n",
    "    xaxis_scale = [(i + 1) * 10 for i in range(10)]\n",
    "    plt.plot(xaxis_scale, nbc_perf, label='Naive Bayes')\n",
    "    plt.plot(xaxis_scale, lr_perf, label='Logistic Regression', linestyle='dashed')\n",
    "    \n",
    "    ax.legend(loc='upper right', fontsize=20)"
   ]
  },
  {
   "cell_type": "markdown",
   "metadata": {
    "id": "hHvj-WPiwz_i"
   },
   "source": [
    "### Datasets"
   ]
  },
  {
   "cell_type": "markdown",
   "metadata": {
    "id": "f_KlIuczwz_i"
   },
   "source": [
    "Tasks: For each dataset,\n",
    "1. prepare the data for the two classifiers\n",
    "2. compare the two classifiers on the dataset and generate the plots\n",
    "3. write a short report of how you prepare the data and your observations of the comparison "
   ]
  },
  {
   "cell_type": "markdown",
   "metadata": {
    "id": "fm-nBE5lwz_i"
   },
   "source": [
    "#####**Dataset 1: Iris Dataset**\n",
    "\n",
    "https://scikit-learn.org/stable/auto_examples/datasets/plot_iris_dataset.html"
   ]
  },
  {
   "cell_type": "code",
   "execution_count": null,
   "metadata": {
    "colab": {
     "base_uri": "https://localhost:8080/"
    },
    "id": "sMFTMCGgwz_i",
    "outputId": "ef8dbb1f-6479-4497-d587-001845008d54"
   },
   "outputs": [
    {
     "name": "stdout",
     "output_type": "stream",
     "text": [
      "<class 'pandas.core.frame.DataFrame'>\n",
      "Int64Index: 150 entries, 0 to 149\n",
      "Data columns (total 5 columns):\n",
      " #   Column             Non-Null Count  Dtype  \n",
      "---  ------             --------------  -----  \n",
      " 0   sepal length (cm)  150 non-null    float64\n",
      " 1   sepal width (cm)   150 non-null    float64\n",
      " 2   petal length (cm)  150 non-null    float64\n",
      " 3   petal width (cm)   150 non-null    float64\n",
      " 4   species            150 non-null    int64  \n",
      "dtypes: float64(4), int64(1)\n",
      "memory usage: 12.0 KB\n"
     ]
    }
   ],
   "source": [
    "# TODO: insert your code for experiments\n",
    "from sklearn.datasets import load_iris\n",
    "iris_obj = load_iris()\n",
    "# the code transform the iris dataset to a dataframe\n",
    "iris = pd.DataFrame(iris_obj.data, columns=iris_obj.feature_names,index=pd.Index([i for i in range(iris_obj.data.shape[0])])).join(pd.DataFrame(iris_obj.target, columns=pd.Index([\"species\"]), index=pd.Index([i for i in range(iris_obj.target.shape[0])])))\n",
    "iris.info()\n",
    "#iris['species'].value_counts()\n",
    "#iris.describe()"
   ]
  },
  {
   "cell_type": "markdown",
   "metadata": {
    "id": "RE_ZOLxik76u"
   },
   "source": [
    "###### Preparation"
   ]
  },
  {
   "cell_type": "markdown",
   "metadata": {
    "id": "xdDMbQzVyjA0"
   },
   "source": [
    "Spaces in all the features have been replaced with low dashes to fit the function \"get_features_types\""
   ]
  },
  {
   "cell_type": "code",
   "execution_count": null,
   "metadata": {
    "id": "rqESN3B0yI1G"
   },
   "outputs": [],
   "source": [
    "iris=iris.rename(columns={'sepal width (cm)': 'sepal_width(cm)', 'petal width (cm)': 'petal_width(cm)', 'sepal length (cm)': 'sepal_length(cm)', 'petal length (cm)': 'petal_length(cm)'})"
   ]
  },
  {
   "cell_type": "markdown",
   "metadata": {
    "id": "xI2kuT8fle9s"
   },
   "source": [
    "There are no missing values and all data type are numerical. To identify the best feature selection's strategy, the Pearson correlation coefficient has been applied. "
   ]
  },
  {
   "cell_type": "code",
   "execution_count": null,
   "metadata": {
    "id": "tn2Vunbe46Pq"
   },
   "outputs": [],
   "source": [
    "#corr_matrix = iris.corr()\n",
    "#corr_matrix"
   ]
  },
  {
   "cell_type": "markdown",
   "metadata": {
    "id": "zdgIFMu94Xwg"
   },
   "source": [
    "The feature \"petal width (cm)\" is the most correlated feature with the target. Given that the dataset is small (150 points),  we use stratified sampling to ensure that the test dataset is representative of the various width of petals. We decided to create 9 categories."
   ]
  },
  {
   "cell_type": "code",
   "execution_count": null,
   "metadata": {
    "id": "4SUA48urREgB"
   },
   "outputs": [],
   "source": [
    "#iris.describe()\n",
    "#plt.xticks(np.arange(min(iris['petal_width(cm)']), max(iris['petal_width(cm)'])+1, 0.1))\n",
    "#iris['petal_width(cm)'].hist(bins=10,figsize=(10,10))\n",
    "iris[\"petalw_cat\"] = pd.cut(iris['petal_width(cm)'], bins=[0,0.35,0.595,1.05,1.30,1.55,1.755,2.005,2.25,2.6], labels=[1,2,3,4,5,6,7,8,9])\n",
    "#iris[\"petalw_cat\"].hist(figsize=(10,10))"
   ]
  },
  {
   "cell_type": "markdown",
   "metadata": {
    "id": "Nq_54Ind5bto"
   },
   "source": [
    "Finally, strong correlations between the features \"petal length (cm)\", \"sepal lenght (cm)\" and \"petal width (cm)\" have been remarked. Therefore, feature selection with Lasso will be applied before fitting the classifiers.\n"
   ]
  },
  {
   "cell_type": "markdown",
   "metadata": {
    "id": "z20tqUMEk-2Z"
   },
   "source": [
    "###### Comparaison"
   ]
  },
  {
   "cell_type": "code",
   "execution_count": null,
   "metadata": {
    "id": "cAebTa1VT223"
   },
   "outputs": [],
   "source": [
    "iris2 = iris.drop('petalw_cat', axis=1)\n",
    "features_types=get_features_types(iris2,'species')\n",
    "num_classes=get_num_classes(iris2, 'species')\n",
    "nbc=NBC(features_types,num_classes)\n",
    "lr=LR()"
   ]
  },
  {
   "cell_type": "code",
   "execution_count": null,
   "metadata": {
    "colab": {
     "base_uri": "https://localhost:8080/"
    },
    "id": "B36CxRzVLwbI",
    "outputId": "91304163-f532-4143-e853-a3e6a4f92fc3"
   },
   "outputs": [
    {
     "data": {
      "image/png": "[encoded data removed]",
      "text/plain": [
       "<Figure size 720x720 with 1 Axes>"
      ]
     },
     "metadata": {
      "needs_background": "light",
      "tags": []
     },
     "output_type": "display_data"
    }
   ],
   "source": [
    "tst_errs_nbc, tst_errs_lr = small_compareNBCvsLR(nbc, lr, iris, 'species', 'petalw_cat', 20, 10, True) # stratified sampling + Lasso\n",
    "makePlot(tst_errs_nbc, tst_errs_lr, title=None)"
   ]
  },
  {
   "cell_type": "markdown",
   "metadata": {
    "id": "PbkdjeEswz_j"
   },
   "source": [
    "#####**Dataset 2: Voting Dataset**\n",
    "\n",
    "https://archive.ics.uci.edu/ml/datasets/congressional+voting+records\n"
   ]
  },
  {
   "cell_type": "markdown",
   "metadata": {
    "id": "8CNkR_5J5LOF"
   },
   "source": [
    "According to a summary of the data frame, all 16 features have at least one missing value and they are all dichotomous categorical variables."
   ]
  },
  {
   "cell_type": "code",
   "execution_count": 14,
   "metadata": {
    "id": "YdaThUrkD07z"
   },
   "outputs": [],
   "source": [
    "# TODO: insert your code for experiments\n",
    "voting = pd.read_csv('../Data/voting.csv')\n",
    "#voting.info()\n",
    "#voting.head()"
   ]
  },
  {
   "cell_type": "markdown",
   "metadata": {
    "id": "jUpWBTPyzRhV"
   },
   "source": [
    "For dichotomous categorical variable it is possible to apply Pearson correlation. The goal is to understand which features are the most likely to predict the label."
   ]
  },
  {
   "cell_type": "code",
   "execution_count": 15,
   "metadata": {
    "id": "cD7ZX8qowz_j"
   },
   "outputs": [],
   "source": [
    "#CorrMatrix=voting.apply(lambda x : pd.factorize(x)[0]).corr(method='pearson', min_periods=1)\n",
    "#CorrMatrix[\"label\"].sort_values(ascending=False)"
   ]
  },
  {
   "cell_type": "markdown",
   "metadata": {
    "id": "Q8Drht_OEO5K"
   },
   "source": [
    "The correlation of the features \"water-project-cost-sharing\" and \"immigration\" with the label are close to zero. Thus, it can be derived that they do not influence significantly the result of the election and they are likely to add noise in the data. Therefore, these features have been dropped."
   ]
  },
  {
   "cell_type": "code",
   "execution_count": 16,
   "metadata": {
    "id": "ECg6bLUSBQ_D"
   },
   "outputs": [],
   "source": [
    "voting=voting.drop(\"water-project-cost-sharing\", axis=1)\n",
    "voting=voting.drop(\"immigration\", axis=1)"
   ]
  },
  {
   "cell_type": "markdown",
   "metadata": {
    "id": "cWRj6KLSceM4"
   },
   "source": [
    "Then, the categories has been converted from text to binary (y-->1, n-->0) and the label has been encoded"
   ]
  },
  {
   "cell_type": "code",
   "execution_count": 17,
   "metadata": {
    "id": "BekYcXzYOkdn"
   },
   "outputs": [],
   "source": [
    "voting.replace(('y', 'n'), (1, 0), inplace=True)\n",
    "labelencoder = LabelEncoder()\n",
    "voting['label'] = labelencoder.fit_transform(voting['label'])"
   ]
  },
  {
   "cell_type": "markdown",
   "metadata": {
    "id": "uZ33pLaBEgR5"
   },
   "source": [
    "Naive Bayes can handle missing data, the preparation will be the different for the two classifiers."
   ]
  },
  {
   "cell_type": "code",
   "execution_count": 18,
   "metadata": {
    "id": "SfEXO5U4br8c"
   },
   "outputs": [],
   "source": [
    "voting_NBC=voting\n",
    "voting_LR=voting"
   ]
  },
  {
   "cell_type": "markdown",
   "metadata": {
    "id": "NK-2UY4mDeHp"
   },
   "source": [
    "###### Preparation"
   ]
  },
  {
   "cell_type": "markdown",
   "metadata": {
    "id": "6Ze68KaODeH3"
   },
   "source": [
    "The feature \"export-administration-act-south-africa\" has the highest number of missing entries. Three solutions could be applied to this case : \n",
    "\n",
    "1. Drop the rows with missing entries. *This would cause a reduction of around 100 data points (25% of the entier data set).*\n",
    "\n",
    "2. Drop the feature. *This would remove the possibility of capturing the inverse of the feature which has a correlation of 0.34 with the label (larger than the one in feature 2,10,11)*\n",
    "\n",
    "3. Fill the missing items with the median. *This might distort the model ability to predict unseen data.*\n",
    "\n",
    "The smallest of evils seems to be solution 2. Thus, the feature has been dropped.\n"
   ]
  },
  {
   "cell_type": "code",
   "execution_count": 19,
   "metadata": {
    "id": "cJT9cLJiDeH4"
   },
   "outputs": [],
   "source": [
    "voting_LR=voting_LR.drop(\"export-administration-act-south-africa\", axis=1)\n",
    "#voting.info()"
   ]
  },
  {
   "cell_type": "markdown",
   "metadata": {
    "id": "sKVGjSBDDeH4"
   },
   "source": [
    "Subsequenty, all data points that have missing values in the first five features with the greatest label correlation have been removed."
   ]
  },
  {
   "cell_type": "code",
   "execution_count": 20,
   "metadata": {
    "id": "isbNO2A2DeH4"
   },
   "outputs": [],
   "source": [
    "voting_LR=voting_LR.dropna(subset=[\"physician-fee-freeze\"])\n",
    "voting_LR=voting_LR.dropna(subset=[\"aid-to-nicaraguan-contras\"])\n",
    "voting_LR=voting_LR.dropna(subset=[\"adoption-of-the-budget-resolution\"])\n",
    "voting_LR=voting_LR.dropna(subset=[\"el-salvador-aid\"])\n",
    "voting_LR=voting_LR.dropna(subset=[\"crime\"])\n",
    "#voting.info()\n",
    "voting_LR = voting_LR.reset_index(drop=True) #reset the index"
   ]
  },
  {
   "cell_type": "markdown",
   "metadata": {
    "id": "7ELKNkELDeH4"
   },
   "source": [
    "Finally, missing values in each feature have been filled with their respective median."
   ]
  },
  {
   "cell_type": "code",
   "execution_count": 21,
   "metadata": {
    "id": "YFXad1wVDeH5"
   },
   "outputs": [],
   "source": [
    "for i in voting_LR :\n",
    "    median = voting_LR[i].value_counts().idxmax()\n",
    "    voting_LR[i].fillna(median, inplace=True)\n",
    "#voting.info()"
   ]
  },
  {
   "cell_type": "code",
   "execution_count": 22,
   "metadata": {
    "id": "ATSVA7sxnrL9"
   },
   "outputs": [],
   "source": [
    "elist=get_features_names(voting_LR,'label')\n",
    "for categorical_feature in elist:\n",
    "      voting_LR[categorical_feature] = voting_LR[categorical_feature].astype('int64')"
   ]
  },
  {
   "cell_type": "markdown",
   "metadata": {
    "id": "3AJxnp5yS41S"
   },
   "source": [
    "######Comparaison"
   ]
  },
  {
   "cell_type": "code",
   "execution_count": 23,
   "metadata": {
    "id": "t-n2hbEPafvH"
   },
   "outputs": [],
   "source": [
    "features_types=get_features_types(voting,'label')\n",
    "num_classes=get_num_classes(voting, 'label')\n",
    "\n",
    "X_LR = voting_LR.drop(\"label\", axis=1).to_numpy()\n",
    "y_LR = voting_LR[\"label\"].to_numpy()\n",
    "\n",
    "X_NBC = voting_NBC.drop(\"label\", axis=1).to_numpy()\n",
    "y_NBC = voting_NBC[\"label\"].to_numpy()\n",
    "\n",
    "\n",
    "nbc=NBC(features_types,num_classes)\n",
    "lr=LR()"
   ]
  },
  {
   "cell_type": "code",
   "execution_count": 29,
   "metadata": {
    "colab": {
     "base_uri": "https://localhost:8080/",
     "height": 358
    },
    "id": "QpiDLmU7Xd3l",
    "outputId": "e73d5aa7-b15d-4cfe-e010-4f6568fd3df4"
   },
   "outputs": [
    {
     "data": {
      "image/png": "[encoded data removed]",
      "text/plain": [
       "<Figure size 720x720 with 1 Axes>"
      ]
     },
     "metadata": {
      "needs_background": "light"
     },
     "output_type": "display_data"
    }
   ],
   "source": [
    "null, tst_errs_lr = big_compareNBCvsLR(nbc, lr, X_LR, y_LR, 200, 10, False)\n",
    "tst_errs_nbc, null = big_compareNBCvsLR(nbc, lr, X_NBC, y_NBC, 200, 10, False)\n",
    "\n",
    "makePlot(tst_errs_nbc, tst_errs_lr, title=None)"
   ]
  },
  {
   "cell_type": "markdown",
   "metadata": {
    "id": "AS4rvytUwz_j"
   },
   "source": [
    "#####**Dataset 3: Car Evaluation Dataset**\n",
    "\n",
    "https://archive.ics.uci.edu/ml/datasets/car+evaluation"
   ]
  },
  {
   "cell_type": "markdown",
   "metadata": {
    "id": "ULKLf8NeUPLZ"
   },
   "source": [
    "First, we visualize a summary of the dataframe. From this we discover that all features have all values. Second, we show the first five rows of the data and their object type to understand the nature of each features. We discover that there are a mix of categorical and numerical variables (with upper limits)."
   ]
  },
  {
   "cell_type": "code",
   "execution_count": 61,
   "metadata": {
    "colab": {
     "base_uri": "https://localhost:8080/"
    },
    "id": "bbXPOZ71wz_j",
    "outputId": "fc4de7dc-f4fd-42a1-85f9-78daa287e047"
   },
   "outputs": [
    {
     "name": "stdout",
     "output_type": "stream",
     "text": [
      "<class 'pandas.core.frame.DataFrame'>\n",
      "RangeIndex: 1728 entries, 0 to 1727\n",
      "Data columns (total 7 columns):\n",
      " #   Column         Non-Null Count  Dtype \n",
      "---  ------         --------------  ----- \n",
      " 0   buying         1728 non-null   object\n",
      " 1   maint          1728 non-null   object\n",
      " 2   doors          1728 non-null   object\n",
      " 3   persons        1728 non-null   object\n",
      " 4   lug_boot       1728 non-null   object\n",
      " 5   safety         1728 non-null   object\n",
      " 6   acceptability  1728 non-null   object\n",
      "dtypes: object(7)\n",
      "memory usage: 94.6+ KB\n"
     ]
    }
   ],
   "source": [
    "# TODO: insert your code for experiments\n",
    "car = pd.read_csv('../Data/car.csv')\n",
    "car.info()\n",
    "#car.head()\n",
    "#car.dtypes"
   ]
  },
  {
   "cell_type": "markdown",
   "metadata": {
    "id": "8Z0taYGKTpJ4"
   },
   "source": [
    "###### Preparation"
   ]
  },
  {
   "cell_type": "markdown",
   "metadata": {
    "id": "F4GTS3Ujgqbo"
   },
   "source": [
    "To encode the data three possibilities have been considered. \n",
    "1. First, an OrdinalEncoder from Sklearn could be deployed. This has the advantage of providing an automatic label for each value of the features, but with the downfall that the number would be usually misleading (e.g. \"small\" would be equal to one).  \n",
    "2. The alternative was to manually map the categories. Using the sample code that can be found in this link : https://stackoverflow.com/questions/59065247/how-to-maintain-natural-order-when-label-encoding-with-scikit-learn\n",
    "3. Finally, it is possible to use a OneHotEncoder and thus losing the natural ordering of the categories.\n"
   ]
  },
  {
   "cell_type": "code",
   "execution_count": 62,
   "metadata": {
    "id": "HgE3lPquaxBO"
   },
   "outputs": [],
   "source": [
    "for categorical_feature in list(car.columns):\n",
    "      car[categorical_feature] = car[categorical_feature].astype('category')\n",
    "#car.dtypes"
   ]
  },
  {
   "cell_type": "markdown",
   "metadata": {
    "id": "kVbaDe-jdwRl"
   },
   "source": [
    "Here, we used the second technique because we wanted to be sure that the order of the categories was consistent. "
   ]
  },
  {
   "cell_type": "code",
   "execution_count": 63,
   "metadata": {
    "id": "XA3KglMvdBSy"
   },
   "outputs": [],
   "source": [
    "label_mapping = {\"low\": 0, \"med\": 1, \"high\": 2, \"vhigh\": 3}\n",
    "car = car.replace({\"buying\": label_mapping})\n",
    "car = car.replace({\"maint\": label_mapping})\n",
    "car = car.replace({\"safety\": label_mapping})"
   ]
  },
  {
   "cell_type": "code",
   "execution_count": 64,
   "metadata": {
    "id": "jW75qX6KhDU0"
   },
   "outputs": [],
   "source": [
    "label_mapping = {\"small\": 0, \"med\": 1, \"big\": 2}\n",
    "car = car.replace({\"lug_boot\": label_mapping})\n",
    "label_mapping = {\"unacc\": 0, \"acc\": 1, \"good\": 3, \"vgood\": 3}\n",
    "car = car.replace({\"acceptability\": label_mapping})"
   ]
  },
  {
   "cell_type": "code",
   "execution_count": 65,
   "metadata": {
    "id": "WpEnoebPhcz2"
   },
   "outputs": [],
   "source": [
    "label_mapping = {\"2\": 0,\"3\": 1, \"4\": 2, \"5more\": 3}\n",
    "car = car.replace({\"doors\": label_mapping})\n",
    "label_mapping = {\"2\": 0, \"3\": 1,\"4\": 2, \"more\": 3}\n",
    "car = car.replace({\"persons\": label_mapping})\n",
    "car = car.rename(columns={'doors': 'doors_cat','persons': 'persons_cat'})"
   ]
  },
  {
   "cell_type": "code",
   "execution_count": 66,
   "metadata": {
    "id": "IJUpg6zjzH4P"
   },
   "outputs": [
    {
     "data": {
      "text/plain": [
       "buying           category\n",
       "maint            category\n",
       "doors_cat        category\n",
       "persons_cat      category\n",
       "lug_boot         category\n",
       "safety           category\n",
       "acceptability    category\n",
       "dtype: object"
      ]
     },
     "execution_count": 66,
     "metadata": {},
     "output_type": "execute_result"
    }
   ],
   "source": [
    "for categorical_feature in list(car.columns):\n",
    "      car[categorical_feature] = car[categorical_feature].astype('category')\n",
    "car.dtypes"
   ]
  },
  {
   "cell_type": "markdown",
   "metadata": {
    "id": "3215kd4TTqqw"
   },
   "source": [
    "###### Comparaison"
   ]
  },
  {
   "cell_type": "code",
   "execution_count": 68,
   "metadata": {
    "id": "D0P7HoeLdaOD"
   },
   "outputs": [],
   "source": [
    "X = car.drop(\"buying\", axis=1).to_numpy()\n",
    "y = car[\"buying\"].to_numpy()\n",
    "\n",
    "features_types=get_features_types(car,'buying')\n",
    "num_classes=get_num_classes(car, 'buying')\n",
    "nbc=NBC(features_types,num_classes)\n",
    "lr=LR()"
   ]
  },
  {
   "cell_type": "code",
   "execution_count": 71,
   "metadata": {
    "colab": {
     "base_uri": "https://localhost:8080/",
     "height": 885
    },
    "id": "gFw3T4Q2CGsy",
    "outputId": "d00360d5-fe54-41ae-bf44-01b649128f99",
    "scrolled": true
   },
   "outputs": [
    {
     "data": {
      "image/png": "[encoded data removed]",
      "text/plain": [
       "<Figure size 720x720 with 1 Axes>"
      ]
     },
     "metadata": {
      "needs_background": "light"
     },
     "output_type": "display_data"
    }
   ],
   "source": [
    "tst_errs_nbc, tst_errs_lr = big_compareNBCvsLR(nbc, lr, X, y, 20, 10, True)\n",
    "makePlot(tst_errs_nbc, tst_errs_lr, title=None)"
   ]
  },
  {
   "cell_type": "markdown",
   "metadata": {
    "id": "2b03oGdXwz_j"
   },
   "source": [
    "#####**Dataset 4: Breast Cancer Dataset**\n",
    "\n",
    "https://archive.ics.uci.edu/ml/datasets/breast+cancer"
   ]
  },
  {
   "cell_type": "code",
   "execution_count": 100,
   "metadata": {
    "colab": {
     "base_uri": "https://localhost:8080/"
    },
    "id": "kXq_rMvkwz_j",
    "outputId": "a19f2b48-0473-4ce0-b803-ab0fcc12f638"
   },
   "outputs": [
    {
     "name": "stdout",
     "output_type": "stream",
     "text": [
      "<class 'pandas.core.frame.DataFrame'>\n",
      "RangeIndex: 286 entries, 0 to 285\n",
      "Data columns (total 10 columns):\n",
      " #   Column       Non-Null Count  Dtype \n",
      "---  ------       --------------  ----- \n",
      " 0   Class        286 non-null    object\n",
      " 1   age          286 non-null    object\n",
      " 2   menopause    286 non-null    object\n",
      " 3   tumor-size   286 non-null    object\n",
      " 4   inv-nodes    286 non-null    object\n",
      " 5   node-caps    286 non-null    object\n",
      " 6   deg-malig    286 non-null    int64 \n",
      " 7   breast       286 non-null    object\n",
      " 8   breast-quad  286 non-null    object\n",
      " 9   irradiat     286 non-null    object\n",
      "dtypes: int64(1), object(9)\n",
      "memory usage: 22.5+ KB\n"
     ]
    }
   ],
   "source": [
    "# TODO: insert your code for experiments\n",
    "cancer = pd.read_csv('../Data/breast-cancer.csv')\n",
    "cancer.info()\n",
    "#cancer.describe()"
   ]
  },
  {
   "cell_type": "markdown",
   "metadata": {
    "id": "w791DHKxTt2B"
   },
   "source": [
    "###### Preparation"
   ]
  },
  {
   "cell_type": "markdown",
   "metadata": {
    "id": "viqxXloZEhfZ"
   },
   "source": [
    "Weak correlated features (< 0.1) with the target variable class have been removed ."
   ]
  },
  {
   "cell_type": "code",
   "execution_count": 101,
   "metadata": {
    "id": "UNPExPX53M41"
   },
   "outputs": [],
   "source": [
    "#CorrMatrix=cancer.apply(lambda x : pd.factorize(x)[0]).corr(method='pearson', min_periods=1)\n",
    "#CorrMatrix[\"Class\"].sort_values(ascending=False)\n",
    "cancer=cancer.drop(\"menopause\", axis=1)\n",
    "cancer=cancer.drop(\"breast\", axis=1)\n",
    "cancer=cancer.drop(\"breast-quad\", axis=1)"
   ]
  },
  {
   "cell_type": "markdown",
   "metadata": {
    "id": "x-1NJkH6JYzp"
   },
   "source": [
    "Afterwards, with the exception of 'deg-malig', the features have been encoded and their data types have been adjusted to fit the get_features_types function. Label encoding has also been performed."
   ]
  },
  {
   "cell_type": "code",
   "execution_count": 102,
   "metadata": {
    "id": "g_E8m-bcEe5k"
   },
   "outputs": [],
   "source": [
    "elist=get_features_names(cancer,'Class')\n",
    "elist.remove('deg-malig')\n",
    "for categorical_feature in elist:\n",
    "      cancer[categorical_feature] = cancer[categorical_feature].astype('category')\n",
    "      cancer[categorical_feature] = cancer[categorical_feature].cat.codes\n",
    "\n",
    "cancer['Class'] = cancer['Class'].astype('int64')\n",
    "cancer['age'] = cancer['age'].astype('category')\n",
    "cancer['tumor-size'] = cancer['tumor-size'].astype('category')\n",
    "cancer['inv-nodes'] = cancer['inv-nodes'].astype('category')\n",
    "cancer['node-caps'] = cancer['node-caps'].astype('int64')\n",
    "cancer['deg-malig'] = cancer['deg-malig'].astype('category')\n",
    "cancer['irradiat'] = cancer['irradiat'].astype('int64')\n",
    "\n",
    "labelencoder = LabelEncoder()\n",
    "cancer['Class'] = labelencoder.fit_transform(cancer['Class'])"
   ]
  },
  {
   "cell_type": "markdown",
   "metadata": {
    "id": "CQwu4iWaJuRO"
   },
   "source": [
    "Given that the data is scarce, stratified shuffled sampling has been implemented. "
   ]
  },
  {
   "cell_type": "code",
   "execution_count": 103,
   "metadata": {
    "id": "dt2at1Bzu3nT"
   },
   "outputs": [],
   "source": [
    "#plt.xticks(np.arange(min(cancer['deg-malig']), max(cancer['deg-malig'])+1, 0.1))\n",
    "#cancer['deg-malig'].hist(bins=10,figsize=(10,10))\n",
    "cancer[\"deg-malig-cat\"] = pd.cut(cancer['deg-malig'], bins=[0,1.3,2.3,3.1], labels=[1,2,3])"
   ]
  },
  {
   "cell_type": "markdown",
   "metadata": {
    "id": "2KEYc-qHTuza"
   },
   "source": [
    "###### Comparaison"
   ]
  },
  {
   "cell_type": "code",
   "execution_count": 104,
   "metadata": {
    "id": "3LLt5DSMcfHq"
   },
   "outputs": [],
   "source": [
    "X = cancer.drop(\"Class\", axis=1).to_numpy()\n",
    "y = cancer[\"Class\"].to_numpy()\n",
    "features_types=get_features_types(cancer,'Class')\n",
    "num_classes=get_num_classes(cancer, 'Class')\n",
    "nbc=NBC(features_types,num_classes)\n",
    "lr=LR()"
   ]
  },
  {
   "cell_type": "code",
   "execution_count": 105,
   "metadata": {
    "colab": {
     "base_uri": "https://localhost:8080/",
     "height": 324
    },
    "id": "Y1geD-O6uTdz",
    "outputId": "2aea2df7-40ca-42dc-b137-ee6fc73388fa"
   },
   "outputs": [
    {
     "data": {
      "image/png": "[encoded data removed]",
      "text/plain": [
       "<Figure size 720x720 with 1 Axes>"
      ]
     },
     "metadata": {
      "needs_background": "light"
     },
     "output_type": "display_data"
    }
   ],
   "source": [
    "tst_errs_nbc, tst_errs_lr = small_compareNBCvsLR(nbc, lr, cancer, 'Class', 'deg-malig-cat', 20, 10, False)\n",
    "makePlot(tst_errs_nbc, tst_errs_lr, title=None)"
   ]
  },
  {
   "cell_type": "markdown",
   "metadata": {
    "id": "fWPGzeuBwz_j"
   },
   "source": [
    "#####**Dataset 5: Ionosphere Dataset**\n",
    "\n",
    "https://archive.ics.uci.edu/ml/datasets/ionosphere"
   ]
  },
  {
   "cell_type": "code",
   "execution_count": 113,
   "metadata": {
    "id": "AhECkbUIwz_j"
   },
   "outputs": [],
   "source": [
    "# TODO: insert your code for experiments\n",
    "ionosphere = pd.read_csv('../Data/ionosphere.csv')\n",
    "#ionosphere.info()\n",
    "#ionosphere['label'].value_counts()\n",
    "#ionosphere.head()\n",
    "#ionosphere.describe()"
   ]
  },
  {
   "cell_type": "markdown",
   "metadata": {
    "id": "fw4YOAnnT3_R"
   },
   "source": [
    "###### Preparation"
   ]
  },
  {
   "cell_type": "markdown",
   "metadata": {
    "id": "gDeVo32zNm-G"
   },
   "source": [
    "Pearson correlation has been employed to describe the relation between variables. \"features 2\" has been immediately dropped because it is a constant (always equal to 0) which means that it does not influence the target variable. Most of the other features are highly correlated with other features(multicollinearelity). Therefore, similarly with the iris dataset, the Lasso embedded methods has been selected. "
   ]
  },
  {
   "cell_type": "code",
   "execution_count": 114,
   "metadata": {
    "id": "u8iVDLw-L7Q3"
   },
   "outputs": [],
   "source": [
    "CorrMatrix=ionosphere.apply(lambda x : pd.factorize(x)[0]).corr(method='pearson', min_periods=1)\n",
    "#CorrMatrix\n",
    "#CorrMatrix[\"label\"].sort_values(ascending=False)\n",
    "#plt.matshow(ionosphere.corr())\n",
    "#plt.show()\n",
    "ionosphere=ionosphere.drop(\"feature2\", axis=1)"
   ]
  },
  {
   "cell_type": "markdown",
   "metadata": {
    "id": "scs6VEAx6lnf"
   },
   "source": [
    "Finally, the label has been encoded."
   ]
  },
  {
   "cell_type": "code",
   "execution_count": 115,
   "metadata": {
    "id": "uNnGinlw6mQF"
   },
   "outputs": [],
   "source": [
    "labelencoder = LabelEncoder()\n",
    "ionosphere['label'] = labelencoder.fit_transform(ionosphere['label'])"
   ]
  },
  {
   "cell_type": "markdown",
   "metadata": {
    "id": "Zqk3BhhBT4kE"
   },
   "source": [
    "######Comparaison"
   ]
  },
  {
   "cell_type": "code",
   "execution_count": 116,
   "metadata": {
    "id": "KBzgS35hzVMr"
   },
   "outputs": [],
   "source": [
    "X = ionosphere.drop(\"label\", axis=1).to_numpy()\n",
    "y = ionosphere[\"label\"].to_numpy()\n",
    "features_types=get_features_types(ionosphere,'label')\n",
    "num_classes=get_num_classes(ionosphere, 'label')\n",
    "nbc=NBC(features_types,num_classes)\n",
    "lr=LR()"
   ]
  },
  {
   "cell_type": "markdown",
   "metadata": {
    "id": "YCueFnHencIv"
   },
   "source": [
    "Feature selection (using Lasso) has been executed while comparing the two classifier. "
   ]
  },
  {
   "cell_type": "code",
   "execution_count": 117,
   "metadata": {
    "colab": {
     "base_uri": "https://localhost:8080/",
     "height": 624
    },
    "id": "PMLQFJ8_eFSI",
    "outputId": "55adbcc6-6df8-4f4f-d124-8b754b4b40d2"
   },
   "outputs": [
    {
     "data": {
      "image/png": "[encoded data removed]",
      "text/plain": [
       "<Figure size 720x720 with 1 Axes>"
      ]
     },
     "metadata": {
      "needs_background": "light"
     },
     "output_type": "display_data"
    }
   ],
   "source": [
    "tst_errs_nbc, tst_errs_lr = big_compareNBCvsLR(nbc, lr, X, y, 200, 10, True)\n",
    "makePlot(tst_errs_nbc, tst_errs_lr, title=None)"
   ]
  },
  {
   "cell_type": "markdown",
   "metadata": {
    "id": "UkmErko0wz_j"
   },
   "source": [
    "#####**Dataset 6: Sonar Dataset**\n",
    "\n",
    "http://archive.ics.uci.edu/ml/datasets/connectionist+bench+%28sonar,+mines+vs.+rocks%29"
   ]
  },
  {
   "cell_type": "code",
   "execution_count": 118,
   "metadata": {
    "id": "YNPhAmGAwz_j"
   },
   "outputs": [],
   "source": [
    "# TODO: insert your code for experiments\n",
    "sonar = pd.read_csv('../Data/sonar.csv')\n",
    "#sonar.info()\n",
    "#sonar['label'].value_counts()\n",
    "#sonar.describe()"
   ]
  },
  {
   "cell_type": "markdown",
   "metadata": {
    "id": "--_F65sMT-w2"
   },
   "source": [
    "###### Preparation"
   ]
  },
  {
   "cell_type": "markdown",
   "metadata": {
    "id": "diyq3KH1PK93"
   },
   "source": [
    "The data does not have any missing values and all features are numerical. A correlation matrix has been constructed to study the features relationships."
   ]
  },
  {
   "cell_type": "code",
   "execution_count": 119,
   "metadata": {
    "id": "ilcP-PDiO3Er"
   },
   "outputs": [],
   "source": [
    "#CorrMatrix=sonar.apply(lambda x : pd.factorize(x)[0]).corr(method='pearson', min_periods=1)\n",
    "#CorrMatrix\n",
    "#CorrMatrix[\"label\"].sort_values(ascending=False)\n",
    "#plt.matshow(sonar.corr())\n",
    "#plt.show()"
   ]
  },
  {
   "cell_type": "markdown",
   "metadata": {
    "id": "a8BkjYwwT_Zj"
   },
   "source": [
    "###### Comparaison"
   ]
  },
  {
   "cell_type": "code",
   "execution_count": 120,
   "metadata": {
    "id": "A-HRCpuW10qp"
   },
   "outputs": [],
   "source": [
    "X = sonar.drop(\"label\", axis=1).to_numpy()\n",
    "y = sonar[\"label\"].to_numpy()\n",
    "features_types=get_features_types(sonar,'label')\n",
    "num_classes=get_num_classes(sonar, 'label')\n",
    "nbc=NBC(features_types,num_classes)\n",
    "lr=LR()"
   ]
  },
  {
   "cell_type": "markdown",
   "metadata": {
    "id": "i3Oq4GHqVCm-"
   },
   "source": [
    "Feature selection (using Lasso) has been executed while comparing the two classifier. "
   ]
  },
  {
   "cell_type": "code",
   "execution_count": 121,
   "metadata": {
    "colab": {
     "base_uri": "https://localhost:8080/",
     "height": 624
    },
    "id": "Gog3raK6wuwQ",
    "outputId": "104be04c-134d-4c9d-8fa7-f878709277d4",
    "scrolled": false
   },
   "outputs": [
    {
     "data": {
      "image/png": "[encoded data removed]",
      "text/plain": [
       "<Figure size 720x720 with 1 Axes>"
      ]
     },
     "metadata": {
      "needs_background": "light"
     },
     "output_type": "display_data"
    }
   ],
   "source": [
    "tst_errs_nbc, tst_errs_lr = big_compareNBCvsLR(nbc, lr, X, y, 200, 10, False)\n",
    "makePlot(tst_errs_nbc, tst_errs_lr, title=None)"
   ]
  }
 ],
 "metadata": {
  "colab": {
   "collapsed_sections": [
    "8h0Km3KMwz_i",
    "YTmpGxqvwz_i",
    "fm-nBE5lwz_i",
    "AS4rvytUwz_j",
    "2b03oGdXwz_j",
    "fWPGzeuBwz_j",
    "UkmErko0wz_j"
   ],
   "name": "practical2_pietro+a.ipynb",
   "provenance": [],
   "toc_visible": true
  },
  "kernelspec": {
   "display_name": "Python 3",
   "language": "python",
   "name": "python3"
  },
  "language_info": {
   "codemirror_mode": {
    "name": "ipython",
    "version": 3
   },
   "file_extension": ".py",
   "mimetype": "text/x-python",
   "name": "python",
   "nbconvert_exporter": "python",
   "pygments_lexer": "ipython3",
   "version": "3.8.3"
  }
 },
 "nbformat": 4,
 "nbformat_minor": 1
}
