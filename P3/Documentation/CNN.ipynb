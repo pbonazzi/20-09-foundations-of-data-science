{
 "cells": [
  {
   "cell_type": "markdown",
   "metadata": {
    "id": "pHBACeUaYxG5"
   },
   "source": [
    "# Convolutional Neural Networks"
   ]
  },
  {
   "cell_type": "code",
   "execution_count": 1,
   "metadata": {
    "executionInfo": {
     "elapsed": 636,
     "status": "ok",
     "timestamp": 1605812702432,
     "user": {
      "displayName": "Haozhe Zhang",
      "photoUrl": "https://lh3.googleusercontent.com/a-/AOh14GhewCb1FImnjURCLugyfalL8wVXJomnuoEHUckN=s64",
      "userId": "15943369882491692800"
     },
     "user_tz": -60
    },
    "id": "XjEA72hBZ50Z"
   },
   "outputs": [],
   "source": [
    "import pandas as pd\n",
    "import numpy as np\n",
    "import matplotlib.pyplot as plt\n",
    "\n",
    "import tensorflow as tf\n",
    "from tensorflow import keras"
   ]
  },
  {
   "cell_type": "code",
   "execution_count": 2,
   "metadata": {
    "executionInfo": {
     "elapsed": 1648,
     "status": "ok",
     "timestamp": 1605812703451,
     "user": {
      "displayName": "Haozhe Zhang",
      "photoUrl": "https://lh3.googleusercontent.com/a-/AOh14GhewCb1FImnjURCLugyfalL8wVXJomnuoEHUckN=s64",
      "userId": "15943369882491692800"
     },
     "user_tz": -60
    },
    "id": "NS2MDFWgejBg"
   },
   "outputs": [],
   "source": [
    "fashion_mnist = keras.datasets.fashion_mnist\n",
    "class_names = [\"T-shirt/top\", \"Trouser\", \"Pullover\", \"Dress\", \"Coat\", \"Sandal\", \"Shirt\", \"Sneaker\", \"Bag\", \"Ankle boot\"]\n",
    "(X_train_full, y_train_full), (X_test, y_test) = fashion_mnist.load_data()\n",
    "\n",
    "# reshape dataset to have a single channel\n",
    "X_train_full = X_train_full.reshape((X_train_full.shape[0], 28, 28, 1))\n",
    "X_test = X_test.reshape((X_test.shape[0], 28, 28, 1))\n",
    "\n",
    "# one-hot encoding\n",
    "y_train_full = keras.utils.to_categorical(y_train_full, num_classes=10)\n",
    "y_test = keras.utils.to_categorical(y_test, num_classes=10)\n",
    "\n",
    "# normalisation\n",
    "X_train_full = X_train_full/255.0\n",
    "X_test = X_test/255.0\n",
    "\n",
    "# get validation dataset\n",
    "np.random.seed(42) # we set the random seed to make sure everytime the data is shuffled in the same way \n",
    "shuffled_indices = np.random.permutation(X_train_full.shape[0])\n",
    "X_valid, X_train = X_train_full[shuffled_indices[:5000]], X_train_full[shuffled_indices[5000:]]\n",
    "y_valid, y_train = y_train_full[shuffled_indices[:5000]], y_train_full[shuffled_indices[5000:]]"
   ]
  },
  {
   "cell_type": "code",
   "execution_count": 3,
   "metadata": {
    "colab": {
     "base_uri": "https://localhost:8080/"
    },
    "executionInfo": {
     "elapsed": 631,
     "status": "ok",
     "timestamp": 1605814682754,
     "user": {
      "displayName": "Haozhe Zhang",
      "photoUrl": "https://lh3.googleusercontent.com/a-/AOh14GhewCb1FImnjURCLugyfalL8wVXJomnuoEHUckN=s64",
      "userId": "15943369882491692800"
     },
     "user_tz": -60
    },
    "id": "rrjmdncn4cBa",
    "outputId": "e0411acc-bc8e-440b-82a9-8b979815b3d8"
   },
   "outputs": [
    {
     "name": "stdout",
     "output_type": "stream",
     "text": [
      "(55000, 10)\n"
     ]
    }
   ],
   "source": [
    "X_train.shape\n",
    "print(y_train.shape)"
   ]
  },
  {
   "cell_type": "markdown",
   "metadata": {
    "id": "FSK8LlpaZzf4"
   },
   "source": [
    "## Build CNN using Keras"
   ]
  },
  {
   "cell_type": "markdown",
   "metadata": {
    "id": "PBhjjYrIgZbl"
   },
   "source": [
    "Typical CNN architectures\n",
    "\n",
    "- Input layer\n",
    "- A few convolutional layers (+ReLU)\n",
    "- A pooling layer\n",
    "- A few convolutional layers (+ReLU)\n",
    "- A pooling layer\n",
    "- …\n",
    "- Fully connected layers (+ReLU)\n",
    "- Output layer\n"
   ]
  },
  {
   "cell_type": "code",
   "execution_count": 9,
   "metadata": {
    "colab": {
     "base_uri": "https://localhost:8080/"
    },
    "executionInfo": {
     "elapsed": 1635,
     "status": "ok",
     "timestamp": 1605812703452,
     "user": {
      "displayName": "Haozhe Zhang",
      "photoUrl": "https://lh3.googleusercontent.com/a-/AOh14GhewCb1FImnjURCLugyfalL8wVXJomnuoEHUckN=s64",
      "userId": "15943369882491692800"
     },
     "user_tz": -60
    },
    "id": "HlafX1pm0p8J",
    "outputId": "51ec4ccf-3d24-4fa6-91ef-8c160ebe84a4"
   },
   "outputs": [
    {
     "name": "stdout",
     "output_type": "stream",
     "text": [
      "Model: \"sequential_1\"\n",
      "_________________________________________________________________\n",
      "Layer (type)                 Output Shape              Param #   \n",
      "=================================================================\n",
      "conv2d_5 (Conv2D)            (None, 28, 28, 64)        3200      \n",
      "_________________________________________________________________\n",
      "max_pooling2d_3 (MaxPooling2 (None, 14, 14, 64)        0         \n",
      "_________________________________________________________________\n",
      "conv2d_6 (Conv2D)            (None, 14, 14, 128)       73856     \n",
      "_________________________________________________________________\n",
      "conv2d_7 (Conv2D)            (None, 14, 14, 128)       147584    \n",
      "_________________________________________________________________\n",
      "max_pooling2d_4 (MaxPooling2 (None, 7, 7, 128)         0         \n",
      "_________________________________________________________________\n",
      "conv2d_8 (Conv2D)            (None, 7, 7, 256)         295168    \n",
      "_________________________________________________________________\n",
      "conv2d_9 (Conv2D)            (None, 7, 7, 256)         590080    \n",
      "_________________________________________________________________\n",
      "max_pooling2d_5 (MaxPooling2 (None, 3, 3, 256)         0         \n",
      "_________________________________________________________________\n",
      "flatten_1 (Flatten)          (None, 2304)              0         \n",
      "_________________________________________________________________\n",
      "dense_3 (Dense)              (None, 128)               295040    \n",
      "_________________________________________________________________\n",
      "dropout_2 (Dropout)          (None, 128)               0         \n",
      "_________________________________________________________________\n",
      "dense_4 (Dense)              (None, 64)                8256      \n",
      "_________________________________________________________________\n",
      "dropout_3 (Dropout)          (None, 64)                0         \n",
      "_________________________________________________________________\n",
      "dense_5 (Dense)              (None, 10)                650       \n",
      "=================================================================\n",
      "Total params: 1,413,834\n",
      "Trainable params: 1,413,834\n",
      "Non-trainable params: 0\n",
      "_________________________________________________________________\n"
     ]
    }
   ],
   "source": [
    "model = keras.models.Sequential([\n",
    "    keras.layers.Conv2D(filters=64, kernel_size=7, activation=\"relu\", kernel_initializer='he_uniform', padding=\"same\", input_shape=[28, 28, 1]),\n",
    "    keras.layers.MaxPooling2D(pool_size=2),\n",
    "    keras.layers.Conv2D(filters=128, kernel_size=3, activation=\"relu\", kernel_initializer='he_uniform', padding=\"same\"), \n",
    "    keras.layers.Conv2D(filters=128, kernel_size=3, activation=\"relu\", kernel_initializer='he_uniform', padding=\"same\"), \n",
    "    keras.layers.MaxPooling2D(pool_size=2),\n",
    "    keras.layers.Conv2D(filters=256, kernel_size=3, activation=\"relu\", kernel_initializer='he_uniform', padding=\"same\"), \n",
    "    keras.layers.Conv2D(filters=256, kernel_size=3, activation=\"relu\", kernel_initializer='he_uniform', padding=\"same\"), \n",
    "    keras.layers.MaxPooling2D(pool_size=2),\n",
    "    keras.layers.Flatten(), # starting fully connected layers\n",
    "    keras.layers.Dense(128, activation=\"relu\", kernel_initializer='he_uniform'),\n",
    "    keras.layers.Dropout(0.5),\n",
    "    keras.layers.Dense(64, activation=\"relu\", kernel_initializer='he_uniform'),\n",
    "    keras.layers.Dropout(0.5),\n",
    "    keras.layers.Dense(10, activation=\"softmax\")\n",
    "])\n",
    "model.summary()"
   ]
  },
  {
   "cell_type": "code",
   "execution_count": 5,
   "metadata": {
    "executionInfo": {
     "elapsed": 1629,
     "status": "ok",
     "timestamp": 1605812703452,
     "user": {
      "displayName": "Haozhe Zhang",
      "photoUrl": "https://lh3.googleusercontent.com/a-/AOh14GhewCb1FImnjURCLugyfalL8wVXJomnuoEHUckN=s64",
      "userId": "15943369882491692800"
     },
     "user_tz": -60
    },
    "id": "yt9OUnR3kgBr"
   },
   "outputs": [],
   "source": [
    "model.compile(loss=\"categorical_crossentropy\",\n",
    "              optimizer=keras.optimizers.Adam(),\n",
    "              metrics=[\"accuracy\"])"
   ]
  },
  {
   "cell_type": "code",
   "execution_count": 6,
   "metadata": {
    "colab": {
     "base_uri": "https://localhost:8080/",
     "height": 375
    },
    "executionInfo": {
     "elapsed": 16956,
     "status": "error",
     "timestamp": 1605812718785,
     "user": {
      "displayName": "Haozhe Zhang",
      "photoUrl": "https://lh3.googleusercontent.com/a-/AOh14GhewCb1FImnjURCLugyfalL8wVXJomnuoEHUckN=s64",
      "userId": "15943369882491692800"
     },
     "user_tz": -60
    },
    "id": "-GQy4zBelBi-",
    "outputId": "180e55a1-dfed-46f0-879c-3eada1ca2d8c"
   },
   "outputs": [
    {
     "name": "stdout",
     "output_type": "stream",
     "text": [
      "Epoch 1/30\n",
      "1719/1719 [==============================] - 160s 93ms/step - loss: 0.8682 - accuracy: 0.6856 - val_loss: 0.4046 - val_accuracy: 0.8536\n",
      "Epoch 2/30\n",
      "1719/1719 [==============================] - 173s 101ms/step - loss: 0.4681 - accuracy: 0.8381 - val_loss: 0.3813 - val_accuracy: 0.8724\n",
      "Epoch 3/30\n",
      "1719/1719 [==============================] - 171s 100ms/step - loss: 0.3902 - accuracy: 0.8670 - val_loss: 0.3251 - val_accuracy: 0.8886\n",
      "Epoch 4/30\n",
      "1719/1719 [==============================] - 169s 98ms/step - loss: 0.3403 - accuracy: 0.8842 - val_loss: 0.2914 - val_accuracy: 0.8958\n",
      "Epoch 5/30\n",
      "1719/1719 [==============================] - 182s 106ms/step - loss: 0.3109 - accuracy: 0.8945 - val_loss: 0.2993 - val_accuracy: 0.8924\n",
      "Epoch 6/30\n",
      "1719/1719 [==============================] - 180s 104ms/step - loss: 0.2854 - accuracy: 0.9023 - val_loss: 0.2816 - val_accuracy: 0.9014\n",
      "Epoch 7/30\n",
      "1719/1719 [==============================] - 189s 110ms/step - loss: 0.2705 - accuracy: 0.9086 - val_loss: 0.2885 - val_accuracy: 0.9016\n",
      "Epoch 8/30\n",
      "1719/1719 [==============================] - 190s 111ms/step - loss: 0.2587 - accuracy: 0.9125 - val_loss: 0.2628 - val_accuracy: 0.9068\n",
      "Epoch 9/30\n",
      "1719/1719 [==============================] - 188s 109ms/step - loss: 0.2443 - accuracy: 0.9163 - val_loss: 0.2659 - val_accuracy: 0.9080\n",
      "Epoch 10/30\n",
      "1719/1719 [==============================] - 177s 103ms/step - loss: 0.2341 - accuracy: 0.9196 - val_loss: 0.2818 - val_accuracy: 0.8994\n",
      "Epoch 11/30\n",
      "1719/1719 [==============================] - 184s 107ms/step - loss: 0.2312 - accuracy: 0.9220 - val_loss: 0.2598 - val_accuracy: 0.9090\n",
      "Epoch 12/30\n",
      "1719/1719 [==============================] - 178s 103ms/step - loss: 0.2139 - accuracy: 0.9270 - val_loss: 0.2580 - val_accuracy: 0.9092\n",
      "Epoch 13/30\n",
      "1719/1719 [==============================] - 182s 106ms/step - loss: 0.2123 - accuracy: 0.9273 - val_loss: 0.2890 - val_accuracy: 0.8978\n",
      "Epoch 14/30\n",
      "1719/1719 [==============================] - 179s 104ms/step - loss: 0.2109 - accuracy: 0.9286 - val_loss: 0.3000 - val_accuracy: 0.9102\n",
      "Epoch 15/30\n",
      "1719/1719 [==============================] - 179s 104ms/step - loss: 0.1978 - accuracy: 0.9330 - val_loss: 0.2649 - val_accuracy: 0.9104\n",
      "Epoch 16/30\n",
      "1719/1719 [==============================] - 186s 108ms/step - loss: 0.1945 - accuracy: 0.9340 - val_loss: 0.2888 - val_accuracy: 0.9050\n",
      "Epoch 17/30\n",
      "1719/1719 [==============================] - 180s 105ms/step - loss: 0.1857 - accuracy: 0.9372 - val_loss: 0.2899 - val_accuracy: 0.9154\n",
      "Epoch 18/30\n",
      "1719/1719 [==============================] - 177s 103ms/step - loss: 0.1881 - accuracy: 0.9372 - val_loss: 0.2871 - val_accuracy: 0.9122\n",
      "Epoch 19/30\n",
      "1719/1719 [==============================] - 182s 106ms/step - loss: 0.1760 - accuracy: 0.9402 - val_loss: 0.2737 - val_accuracy: 0.9158\n",
      "Epoch 20/30\n",
      "1719/1719 [==============================] - 173s 101ms/step - loss: 0.1705 - accuracy: 0.9435 - val_loss: 0.2697 - val_accuracy: 0.9192\n",
      "Epoch 21/30\n",
      "1719/1719 [==============================] - 170s 99ms/step - loss: 0.1744 - accuracy: 0.9439 - val_loss: 0.3059 - val_accuracy: 0.9110\n",
      "Epoch 22/30\n",
      "1719/1719 [==============================] - 168s 98ms/step - loss: 0.1742 - accuracy: 0.9418 - val_loss: 0.3144 - val_accuracy: 0.9184\n",
      "Epoch 23/30\n",
      "1719/1719 [==============================] - 173s 101ms/step - loss: 0.1660 - accuracy: 0.9445 - val_loss: 0.3202 - val_accuracy: 0.9136\n",
      "Epoch 24/30\n",
      "1719/1719 [==============================] - 172s 100ms/step - loss: 0.1672 - accuracy: 0.9451 - val_loss: 0.2950 - val_accuracy: 0.9170\n",
      "Epoch 25/30\n",
      "1719/1719 [==============================] - 173s 100ms/step - loss: 0.1684 - accuracy: 0.9442 - val_loss: 0.3016 - val_accuracy: 0.9102\n",
      "Epoch 26/30\n",
      "1719/1719 [==============================] - 165s 96ms/step - loss: 0.1679 - accuracy: 0.9462 - val_loss: 0.2905 - val_accuracy: 0.9096\n",
      "Epoch 27/30\n",
      "1719/1719 [==============================] - 149s 87ms/step - loss: 0.1527 - accuracy: 0.9491 - val_loss: 0.3030 - val_accuracy: 0.9136\n",
      "Epoch 28/30\n",
      "1719/1719 [==============================] - 154s 90ms/step - loss: 0.1590 - accuracy: 0.9475 - val_loss: 0.3089 - val_accuracy: 0.9154\n",
      "Epoch 29/30\n",
      "1719/1719 [==============================] - 147s 86ms/step - loss: 0.1591 - accuracy: 0.9485 - val_loss: 0.3036 - val_accuracy: 0.9160\n",
      "Epoch 30/30\n",
      "1719/1719 [==============================] - 144s 84ms/step - loss: 0.1480 - accuracy: 0.9523 - val_loss: 0.3372 - val_accuracy: 0.9080\n"
     ]
    }
   ],
   "source": [
    "history = model.fit(X_train, y_train, batch_size=32, epochs=30, \n",
    "                    validation_data=(X_valid, y_valid))"
   ]
  },
  {
   "cell_type": "code",
   "execution_count": 7,
   "metadata": {
    "executionInfo": {
     "elapsed": 16947,
     "status": "aborted",
     "timestamp": 1605812718783,
     "user": {
      "displayName": "Haozhe Zhang",
      "photoUrl": "https://lh3.googleusercontent.com/a-/AOh14GhewCb1FImnjURCLugyfalL8wVXJomnuoEHUckN=s64",
      "userId": "15943369882491692800"
     },
     "user_tz": -60
    },
    "id": "pOAiO5aclRp_"
   },
   "outputs": [
    {
     "data": {
      "image/png": "[encoded data removed]",
      "text/plain": [
       "<Figure size 864x576 with 1 Axes>"
      ]
     },
     "metadata": {
      "needs_background": "light"
     },
     "output_type": "display_data"
    }
   ],
   "source": [
    "pd.DataFrame(history.history).plot(figsize=(12, 8))\n",
    "plt.gca().set_ylim(0, 1)\n",
    "plt.grid(True)\n",
    "plt.show()"
   ]
  },
  {
   "cell_type": "code",
   "execution_count": 8,
   "metadata": {
    "executionInfo": {
     "elapsed": 16943,
     "status": "aborted",
     "timestamp": 1605812718784,
     "user": {
      "displayName": "Haozhe Zhang",
      "photoUrl": "https://lh3.googleusercontent.com/a-/AOh14GhewCb1FImnjURCLugyfalL8wVXJomnuoEHUckN=s64",
      "userId": "15943369882491692800"
     },
     "user_tz": -60
    },
    "id": "ppz0WZbsrwBA"
   },
   "outputs": [
    {
     "name": "stdout",
     "output_type": "stream",
     "text": [
      "313/313 [==============================] - 8s 26ms/step - loss: 0.3686 - accuracy: 0.9067\n"
     ]
    },
    {
     "data": {
      "text/plain": [
       "[0.36856764554977417, 0.9067000150680542]"
      ]
     },
     "execution_count": 8,
     "metadata": {},
     "output_type": "execute_result"
    }
   ],
   "source": [
    "model.evaluate(X_test, y_test)"
   ]
  }
 ],
 "metadata": {
  "colab": {
   "authorship_tag": "ABX9TyPBA1pZ+E84SEf42KnPTnij",
   "collapsed_sections": [],
   "name": "CNN.ipynb",
   "provenance": []
  },
  "kernelspec": {
   "display_name": "Python 3",
   "language": "python",
   "name": "python3"
  },
  "language_info": {
   "codemirror_mode": {
    "name": "ipython",
    "version": 3
   },
   "file_extension": ".py",
   "mimetype": "text/x-python",
   "name": "python",
   "nbconvert_exporter": "python",
   "pygments_lexer": "ipython3",
   "version": "3.8.3"
  }
 },
 "nbformat": 4,
 "nbformat_minor": 4
}
