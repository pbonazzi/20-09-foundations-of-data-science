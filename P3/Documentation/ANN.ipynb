{
 "cells": [
  {
   "cell_type": "markdown",
   "metadata": {
    "id": "kLRdq8AJCGKk"
   },
   "source": [
    "# Artifical Neural Networks"
   ]
  },
  {
   "cell_type": "code",
   "execution_count": 1,
   "metadata": {
    "id": "dJ1Hj8X1CGKp"
   },
   "outputs": [],
   "source": [
    "import numpy as np\n",
    "import pandas as pd\n",
    "import matplotlib.pyplot as plt\n",
    "\n",
    "import tensorflow as tf\n",
    "from tensorflow import keras"
   ]
  },
  {
   "cell_type": "code",
   "execution_count": 2,
   "metadata": {},
   "outputs": [
    {
     "data": {
      "text/plain": [
       "'2.3.1'"
      ]
     },
     "execution_count": 2,
     "metadata": {},
     "output_type": "execute_result"
    }
   ],
   "source": [
    "tf.__version__"
   ]
  },
  {
   "cell_type": "code",
   "execution_count": 3,
   "metadata": {},
   "outputs": [
    {
     "data": {
      "text/plain": [
       "'2.4.0'"
      ]
     },
     "execution_count": 3,
     "metadata": {},
     "output_type": "execute_result"
    }
   ],
   "source": [
    "keras.__version__"
   ]
  },
  {
   "cell_type": "markdown",
   "metadata": {
    "id": "bFVpN5N7CGKu"
   },
   "source": [
    "## Prepare the dataset"
   ]
  },
  {
   "cell_type": "code",
   "execution_count": 4,
   "metadata": {
    "id": "UyfB5GNBCGKu"
   },
   "outputs": [
    {
     "name": "stdout",
     "output_type": "stream",
     "text": [
      "Downloading data from https://storage.googleapis.com/tensorflow/tf-keras-datasets/train-labels-idx1-ubyte.gz\n",
      "32768/29515 [=================================] - 0s 0us/step\n",
      "Downloading data from https://storage.googleapis.com/tensorflow/tf-keras-datasets/train-images-idx3-ubyte.gz\n",
      "26427392/26421880 [==============================] - 0s 0us/step\n",
      "Downloading data from https://storage.googleapis.com/tensorflow/tf-keras-datasets/t10k-labels-idx1-ubyte.gz\n",
      "8192/5148 [===============================================] - 0s 0us/step\n",
      "Downloading data from https://storage.googleapis.com/tensorflow/tf-keras-datasets/t10k-images-idx3-ubyte.gz\n",
      "4423680/4422102 [==============================] - 0s 0us/step\n"
     ]
    }
   ],
   "source": [
    "fashion_mnist = keras.datasets.fashion_mnist\n",
    "(X_train_full, y_train_full), (X_test, y_test) = fashion_mnist.load_data()\n"
   ]
  },
  {
   "cell_type": "code",
   "execution_count": 5,
   "metadata": {},
   "outputs": [
    {
     "data": {
      "text/plain": [
       "(60000, 28, 28)"
      ]
     },
     "execution_count": 5,
     "metadata": {},
     "output_type": "execute_result"
    }
   ],
   "source": [
    "X_train_full.shape"
   ]
  },
  {
   "cell_type": "code",
   "execution_count": 6,
   "metadata": {},
   "outputs": [
    {
     "data": {
      "text/plain": [
       "dtype('uint8')"
      ]
     },
     "execution_count": 6,
     "metadata": {},
     "output_type": "execute_result"
    }
   ],
   "source": [
    "X_train_full.dtype"
   ]
  },
  {
   "cell_type": "code",
   "execution_count": 7,
   "metadata": {
    "colab": {
     "base_uri": "https://localhost:8080/"
    },
    "executionInfo": {
     "elapsed": 1413,
     "status": "ok",
     "timestamp": 1605614198175,
     "user": {
      "displayName": "Haozhe Zhang",
      "photoUrl": "https://lh3.googleusercontent.com/a-/AOh14GhewCb1FImnjURCLugyfalL8wVXJomnuoEHUckN=s64",
      "userId": "15943369882491692800"
     },
     "user_tz": -60
    },
    "id": "54pCr8z2CGKx",
    "outputId": "03626cc5-f1a2-46ac-b7d0-2e3f80e341a1"
   },
   "outputs": [
    {
     "data": {
      "text/plain": [
       "array([[  0,   0,   0,   0,   0,   0,   0,   0,   0,   0,   0,   0,   0,\n",
       "          0,   0,   0,   0,   0,   0,   0,   0,   0,   0,   0,   0,   0,\n",
       "          0,   0],\n",
       "       [  0,   0,   0,   0,   0,   0,   0,   0,   0,   0,   0,   0,   0,\n",
       "          0,   0,   0,   0,   0,   0,   0,   0,   0,   0,   0,   0,   0,\n",
       "          0,   0],\n",
       "       [  0,   0,   0,   0,   0,   0,   0,   0,   0,   0,   0,   0,   0,\n",
       "          0,   0,   0,   0,   0,   0,   0,   0,   0,   0,   0,   0,   0,\n",
       "          0,   0],\n",
       "       [  0,   0,   0,   0,   0,   0,   0,   0,   0,   0,   0,   0,   1,\n",
       "          0,   0,  13,  73,   0,   0,   1,   4,   0,   0,   0,   0,   1,\n",
       "          1,   0],\n",
       "       [  0,   0,   0,   0,   0,   0,   0,   0,   0,   0,   0,   0,   3,\n",
       "          0,  36, 136, 127,  62,  54,   0,   0,   0,   1,   3,   4,   0,\n",
       "          0,   3],\n",
       "       [  0,   0,   0,   0,   0,   0,   0,   0,   0,   0,   0,   0,   6,\n",
       "          0, 102, 204, 176, 134, 144, 123,  23,   0,   0,   0,   0,  12,\n",
       "         10,   0],\n",
       "       [  0,   0,   0,   0,   0,   0,   0,   0,   0,   0,   0,   0,   0,\n",
       "          0, 155, 236, 207, 178, 107, 156, 161, 109,  64,  23,  77, 130,\n",
       "         72,  15],\n",
       "       [  0,   0,   0,   0,   0,   0,   0,   0,   0,   0,   0,   1,   0,\n",
       "         69, 207, 223, 218, 216, 216, 163, 127, 121, 122, 146, 141,  88,\n",
       "        172,  66],\n",
       "       [  0,   0,   0,   0,   0,   0,   0,   0,   0,   1,   1,   1,   0,\n",
       "        200, 232, 232, 233, 229, 223, 223, 215, 213, 164, 127, 123, 196,\n",
       "        229,   0],\n",
       "       [  0,   0,   0,   0,   0,   0,   0,   0,   0,   0,   0,   0,   0,\n",
       "        183, 225, 216, 223, 228, 235, 227, 224, 222, 224, 221, 223, 245,\n",
       "        173,   0],\n",
       "       [  0,   0,   0,   0,   0,   0,   0,   0,   0,   0,   0,   0,   0,\n",
       "        193, 228, 218, 213, 198, 180, 212, 210, 211, 213, 223, 220, 243,\n",
       "        202,   0],\n",
       "       [  0,   0,   0,   0,   0,   0,   0,   0,   0,   1,   3,   0,  12,\n",
       "        219, 220, 212, 218, 192, 169, 227, 208, 218, 224, 212, 226, 197,\n",
       "        209,  52],\n",
       "       [  0,   0,   0,   0,   0,   0,   0,   0,   0,   0,   6,   0,  99,\n",
       "        244, 222, 220, 218, 203, 198, 221, 215, 213, 222, 220, 245, 119,\n",
       "        167,  56],\n",
       "       [  0,   0,   0,   0,   0,   0,   0,   0,   0,   4,   0,   0,  55,\n",
       "        236, 228, 230, 228, 240, 232, 213, 218, 223, 234, 217, 217, 209,\n",
       "         92,   0],\n",
       "       [  0,   0,   1,   4,   6,   7,   2,   0,   0,   0,   0,   0, 237,\n",
       "        226, 217, 223, 222, 219, 222, 221, 216, 223, 229, 215, 218, 255,\n",
       "         77,   0],\n",
       "       [  0,   3,   0,   0,   0,   0,   0,   0,   0,  62, 145, 204, 228,\n",
       "        207, 213, 221, 218, 208, 211, 218, 224, 223, 219, 215, 224, 244,\n",
       "        159,   0],\n",
       "       [  0,   0,   0,   0,  18,  44,  82, 107, 189, 228, 220, 222, 217,\n",
       "        226, 200, 205, 211, 230, 224, 234, 176, 188, 250, 248, 233, 238,\n",
       "        215,   0],\n",
       "       [  0,  57, 187, 208, 224, 221, 224, 208, 204, 214, 208, 209, 200,\n",
       "        159, 245, 193, 206, 223, 255, 255, 221, 234, 221, 211, 220, 232,\n",
       "        246,   0],\n",
       "       [  3, 202, 228, 224, 221, 211, 211, 214, 205, 205, 205, 220, 240,\n",
       "         80, 150, 255, 229, 221, 188, 154, 191, 210, 204, 209, 222, 228,\n",
       "        225,   0],\n",
       "       [ 98, 233, 198, 210, 222, 229, 229, 234, 249, 220, 194, 215, 217,\n",
       "        241,  65,  73, 106, 117, 168, 219, 221, 215, 217, 223, 223, 224,\n",
       "        229,  29],\n",
       "       [ 75, 204, 212, 204, 193, 205, 211, 225, 216, 185, 197, 206, 198,\n",
       "        213, 240, 195, 227, 245, 239, 223, 218, 212, 209, 222, 220, 221,\n",
       "        230,  67],\n",
       "       [ 48, 203, 183, 194, 213, 197, 185, 190, 194, 192, 202, 214, 219,\n",
       "        221, 220, 236, 225, 216, 199, 206, 186, 181, 177, 172, 181, 205,\n",
       "        206, 115],\n",
       "       [  0, 122, 219, 193, 179, 171, 183, 196, 204, 210, 213, 207, 211,\n",
       "        210, 200, 196, 194, 191, 195, 191, 198, 192, 176, 156, 167, 177,\n",
       "        210,  92],\n",
       "       [  0,   0,  74, 189, 212, 191, 175, 172, 175, 181, 185, 188, 189,\n",
       "        188, 193, 198, 204, 209, 210, 210, 211, 188, 188, 194, 192, 216,\n",
       "        170,   0],\n",
       "       [  2,   0,   0,   0,  66, 200, 222, 237, 239, 242, 246, 243, 244,\n",
       "        221, 220, 193, 191, 179, 182, 182, 181, 176, 166, 168,  99,  58,\n",
       "          0,   0],\n",
       "       [  0,   0,   0,   0,   0,   0,   0,  40,  61,  44,  72,  41,  35,\n",
       "          0,   0,   0,   0,   0,   0,   0,   0,   0,   0,   0,   0,   0,\n",
       "          0,   0],\n",
       "       [  0,   0,   0,   0,   0,   0,   0,   0,   0,   0,   0,   0,   0,\n",
       "          0,   0,   0,   0,   0,   0,   0,   0,   0,   0,   0,   0,   0,\n",
       "          0,   0],\n",
       "       [  0,   0,   0,   0,   0,   0,   0,   0,   0,   0,   0,   0,   0,\n",
       "          0,   0,   0,   0,   0,   0,   0,   0,   0,   0,   0,   0,   0,\n",
       "          0,   0]], dtype=uint8)"
      ]
     },
     "execution_count": 7,
     "metadata": {},
     "output_type": "execute_result"
    }
   ],
   "source": [
    "X_train_full[0]"
   ]
  },
  {
   "cell_type": "code",
   "execution_count": 8,
   "metadata": {
    "colab": {
     "base_uri": "https://localhost:8080/",
     "height": 299
    },
    "executionInfo": {
     "elapsed": 1618,
     "status": "ok",
     "timestamp": 1605614198388,
     "user": {
      "displayName": "Haozhe Zhang",
      "photoUrl": "https://lh3.googleusercontent.com/a-/AOh14GhewCb1FImnjURCLugyfalL8wVXJomnuoEHUckN=s64",
      "userId": "15943369882491692800"
     },
     "user_tz": -60
    },
    "id": "lSdQmNBvCGK1",
    "outputId": "4ad7d042-f8f3-4548-d7a3-1a6fc011e5c0"
   },
   "outputs": [
    {
     "data": {
      "image/png": "[encoded data removed]",
      "text/plain": [
       "<Figure size 432x288 with 1 Axes>"
      ]
     },
     "metadata": {
      "needs_background": "light"
     },
     "output_type": "display_data"
    },
    {
     "name": "stdout",
     "output_type": "stream",
     "text": [
      "9 Ankle boot\n"
     ]
    }
   ],
   "source": [
    "fig = plt.figure\n",
    "plt.imshow(X_train_full[0], cmap='gray_r')\n",
    "plt.show()\n",
    "\n",
    "# This array lists the classes of the label\n",
    "# the labels are stored as indices of the classes\n",
    "class_names = [\"T-shirt/top\", \"Trouser\", \"Pullover\", \"Dress\", \"Coat\", \"Sandal\", \"Shirt\", \"Sneaker\", \"Bag\", \"Ankle boot\"]\n",
    "print(y_train_full[0], class_names[y_train_full[0]])\n",
    "# This label index of the image is 9, and it corresponds to the class Ankle boot"
   ]
  },
  {
   "cell_type": "code",
   "execution_count": 9,
   "metadata": {
    "colab": {
     "base_uri": "https://localhost:8080/",
     "height": 278
    },
    "executionInfo": {
     "elapsed": 3074,
     "status": "ok",
     "timestamp": 1605614199853,
     "user": {
      "displayName": "Haozhe Zhang",
      "photoUrl": "https://lh3.googleusercontent.com/a-/AOh14GhewCb1FImnjURCLugyfalL8wVXJomnuoEHUckN=s64",
      "userId": "15943369882491692800"
     },
     "user_tz": -60
    },
    "id": "EIUT9ZOnCGK4",
    "outputId": "ccbfc957-66ef-423c-c269-6945c9372898"
   },
   "outputs": [
    {
     "data": {
      "image/png": "[encoded data removed]",
      "text/plain": [
       "<Figure size 540x288 with 10 Axes>"
      ]
     },
     "metadata": {
      "needs_background": "light"
     },
     "output_type": "display_data"
    }
   ],
   "source": [
    "# here I alos write this function to show the first 10 images in the dataset\n",
    "# you can see there are clothes belonging to different classes, such as Ankle boot, T-shirt\n",
    "# Our aim is to build a classifer that can classify the images to their classes\n",
    "def image_plot(X, y, num=10):\n",
    "    # plot data\n",
    "    num_row = 2\n",
    "    num_col = 5\n",
    "\n",
    "    images = X[:num]\n",
    "    labels = y[:num]\n",
    "\n",
    "    # plot images\n",
    "    fig, axes = plt.subplots(num_row, num_col, figsize=(1.5*num_col,2*num_row))\n",
    "    for i in range(num):\n",
    "        ax = axes[i//num_col, i%num_col]\n",
    "        ax.imshow(images[i], cmap='gray_r')\n",
    "        ax.set_title('{}'.format(class_names[labels[i]]))\n",
    "    plt.tight_layout()\n",
    "    plt.show()\n",
    "\n",
    "image_plot(X_train_full, y_train_full)"
   ]
  },
  {
   "cell_type": "code",
   "execution_count": 10,
   "metadata": {
    "id": "OXkg8dOHCGK6"
   },
   "outputs": [],
   "source": [
    "# normalisation\n",
    "X_train_full = X_train_full/255.0\n",
    "X_test = X_test/255.0"
   ]
  },
  {
   "cell_type": "code",
   "execution_count": 11,
   "metadata": {},
   "outputs": [
    {
     "data": {
      "text/plain": [
       "array([0., 0., 0., 0., 0., 0., 0., 0., 0., 1.], dtype=float32)"
      ]
     },
     "execution_count": 11,
     "metadata": {},
     "output_type": "execute_result"
    }
   ],
   "source": [
    "# Converts a class vector (integers) to one-hot encoding matrix.\n",
    "y_train_full = keras.utils.to_categorical(y_train_full, num_classes=10)\n",
    "y_test = keras.utils.to_categorical(y_test, num_classes=10)\n",
    "\n",
    "y_train_full[0]"
   ]
  },
  {
   "cell_type": "code",
   "execution_count": 12,
   "metadata": {
    "id": "PL-rSBvWCGK9"
   },
   "outputs": [],
   "source": [
    "# get validation dataset\n",
    "# then we need to get the validation dataset. We take 5 thoudsands images randomly from the training data, as the validation data\n",
    "np.random.seed(42) \n",
    "shuffled_indices = np.random.permutation(X_train_full.shape[0])\n",
    "X_valid, X_train = X_train_full[shuffled_indices[:5000]], X_train_full[shuffled_indices[5000:]]\n",
    "y_valid, y_train = y_train_full[shuffled_indices[:5000]], y_train_full[shuffled_indices[5000:]]"
   ]
  },
  {
   "cell_type": "markdown",
   "metadata": {
    "id": "pdAZO8v3CGK_"
   },
   "source": [
    "## Create the ANN with TensorFlow's Keras API"
   ]
  },
  {
   "cell_type": "markdown",
   "metadata": {},
   "source": [
    "<img src=\"ANNArchitecture.png\" width=\"30%\">"
   ]
  },
  {
   "cell_type": "code",
   "execution_count": 13,
   "metadata": {
    "id": "fNrS4BOyCGLA"
   },
   "outputs": [],
   "source": [
    "# The model starts with a input layer with 28 x 28 \n",
    "model = keras.models.Sequential()\n",
    "model.add(keras.layers.Flatten(input_shape=[28, 28]))\n",
    "model.add(keras.layers.Dense(300, activation=\"relu\"))\n",
    "model.add(keras.layers.Dense(100, activation=\"relu\"))\n",
    "model.add(keras.layers.Dense(10, activation=\"softmax\"))"
   ]
  },
  {
   "cell_type": "code",
   "execution_count": 14,
   "metadata": {
    "colab": {
     "base_uri": "https://localhost:8080/"
    },
    "executionInfo": {
     "elapsed": 3061,
     "status": "ok",
     "timestamp": 1605614199856,
     "user": {
      "displayName": "Haozhe Zhang",
      "photoUrl": "https://lh3.googleusercontent.com/a-/AOh14GhewCb1FImnjURCLugyfalL8wVXJomnuoEHUckN=s64",
      "userId": "15943369882491692800"
     },
     "user_tz": -60
    },
    "id": "1N6Z8R4HCGLC",
    "outputId": "24460181-c5b6-4fd1-c050-3094e1ecc2c0"
   },
   "outputs": [
    {
     "name": "stdout",
     "output_type": "stream",
     "text": [
      "Model: \"sequential\"\n",
      "_________________________________________________________________\n",
      "Layer (type)                 Output Shape              Param #   \n",
      "=================================================================\n",
      "flatten (Flatten)            (None, 784)               0         \n",
      "_________________________________________________________________\n",
      "dense (Dense)                (None, 300)               235500    \n",
      "_________________________________________________________________\n",
      "dense_1 (Dense)              (None, 100)               30100     \n",
      "_________________________________________________________________\n",
      "dense_2 (Dense)              (None, 10)                1010      \n",
      "=================================================================\n",
      "Total params: 266,610\n",
      "Trainable params: 266,610\n",
      "Non-trainable params: 0\n",
      "_________________________________________________________________\n"
     ]
    }
   ],
   "source": [
    "model.summary()"
   ]
  },
  {
   "cell_type": "code",
   "execution_count": 15,
   "metadata": {
    "colab": {
     "base_uri": "https://localhost:8080/"
    },
    "executionInfo": {
     "elapsed": 3292,
     "status": "ok",
     "timestamp": 1605614200104,
     "user": {
      "displayName": "Haozhe Zhang",
      "photoUrl": "https://lh3.googleusercontent.com/a-/AOh14GhewCb1FImnjURCLugyfalL8wVXJomnuoEHUckN=s64",
      "userId": "15943369882491692800"
     },
     "user_tz": -60
    },
    "id": "aB1tTEAQCGLH",
    "outputId": "68e14d98-c0c1-4cbc-a440-4644094c04e8"
   },
   "outputs": [
    {
     "name": "stdout",
     "output_type": "stream",
     "text": [
      "[<tensorflow.python.keras.layers.core.Flatten object at 0x7fb1721b50a0>, <tensorflow.python.keras.layers.core.Dense object at 0x7fb1809a6040>, <tensorflow.python.keras.layers.core.Dense object at 0x7fb1721bba90>, <tensorflow.python.keras.layers.core.Dense object at 0x7fb1808e4ca0>]\n"
     ]
    },
    {
     "data": {
      "text/plain": [
       "<tensorflow.python.keras.layers.core.Flatten at 0x7fb1721b50a0>"
      ]
     },
     "execution_count": 15,
     "metadata": {},
     "output_type": "execute_result"
    }
   ],
   "source": [
    "print(model.layers)\n",
    "# get layers by index\n",
    "model.layers[0]\n",
    "# get layers by name\n",
    "# model.get_layer('dense_1')"
   ]
  },
  {
   "cell_type": "code",
   "execution_count": 16,
   "metadata": {
    "colab": {
     "base_uri": "https://localhost:8080/"
    },
    "executionInfo": {
     "elapsed": 3284,
     "status": "ok",
     "timestamp": 1605614200105,
     "user": {
      "displayName": "Haozhe Zhang",
      "photoUrl": "https://lh3.googleusercontent.com/a-/AOh14GhewCb1FImnjURCLugyfalL8wVXJomnuoEHUckN=s64",
      "userId": "15943369882491692800"
     },
     "user_tz": -60
    },
    "id": "dKZSMR3-CGLJ",
    "outputId": "4d7cfd7a-0de1-4e58-9b83-722647769f73"
   },
   "outputs": [
    {
     "name": "stdout",
     "output_type": "stream",
     "text": [
      "(784, 300) [[-0.07107058 -0.06328881 -0.02252968 ... -0.06036731  0.04651257\n",
      "  -0.05537327]\n",
      " [ 0.02662961  0.06046876 -0.00426799 ...  0.00623906  0.04805772\n",
      "   0.06556775]\n",
      " [ 0.07139771 -0.04688122  0.04297786 ... -0.03515543  0.02705774\n",
      "   0.02884015]\n",
      " ...\n",
      " [ 0.04228527  0.04894388  0.05855811 ... -0.06446708 -0.0396016\n",
      "  -0.00129052]\n",
      " [-0.06735526  0.0200757  -0.01082698 ... -0.01433063  0.01098213\n",
      "  -0.06775238]\n",
      " [ 0.05719735  0.02062506  0.05445826 ...  0.00962873 -0.0413871\n",
      "  -0.05984972]]\n",
      "(300,) [0. 0. 0. 0. 0. 0. 0. 0. 0. 0. 0. 0. 0. 0. 0. 0. 0. 0. 0. 0. 0. 0. 0. 0.\n",
      " 0. 0. 0. 0. 0. 0. 0. 0. 0. 0. 0. 0. 0. 0. 0. 0. 0. 0. 0. 0. 0. 0. 0. 0.\n",
      " 0. 0. 0. 0. 0. 0. 0. 0. 0. 0. 0. 0. 0. 0. 0. 0. 0. 0. 0. 0. 0. 0. 0. 0.\n",
      " 0. 0. 0. 0. 0. 0. 0. 0. 0. 0. 0. 0. 0. 0. 0. 0. 0. 0. 0. 0. 0. 0. 0. 0.\n",
      " 0. 0. 0. 0. 0. 0. 0. 0. 0. 0. 0. 0. 0. 0. 0. 0. 0. 0. 0. 0. 0. 0. 0. 0.\n",
      " 0. 0. 0. 0. 0. 0. 0. 0. 0. 0. 0. 0. 0. 0. 0. 0. 0. 0. 0. 0. 0. 0. 0. 0.\n",
      " 0. 0. 0. 0. 0. 0. 0. 0. 0. 0. 0. 0. 0. 0. 0. 0. 0. 0. 0. 0. 0. 0. 0. 0.\n",
      " 0. 0. 0. 0. 0. 0. 0. 0. 0. 0. 0. 0. 0. 0. 0. 0. 0. 0. 0. 0. 0. 0. 0. 0.\n",
      " 0. 0. 0. 0. 0. 0. 0. 0. 0. 0. 0. 0. 0. 0. 0. 0. 0. 0. 0. 0. 0. 0. 0. 0.\n",
      " 0. 0. 0. 0. 0. 0. 0. 0. 0. 0. 0. 0. 0. 0. 0. 0. 0. 0. 0. 0. 0. 0. 0. 0.\n",
      " 0. 0. 0. 0. 0. 0. 0. 0. 0. 0. 0. 0. 0. 0. 0. 0. 0. 0. 0. 0. 0. 0. 0. 0.\n",
      " 0. 0. 0. 0. 0. 0. 0. 0. 0. 0. 0. 0. 0. 0. 0. 0. 0. 0. 0. 0. 0. 0. 0. 0.\n",
      " 0. 0. 0. 0. 0. 0. 0. 0. 0. 0. 0. 0.]\n"
     ]
    }
   ],
   "source": [
    "# look at how the parameters are initialised\n",
    "\n",
    "weights, biases = model.layers[1].get_weights()\n",
    "print(weights.shape, weights)\n",
    "print(biases.shape, biases)"
   ]
  },
  {
   "cell_type": "markdown",
   "metadata": {
    "id": "d--ee008CGLL"
   },
   "source": [
    "## Compile and train the model"
   ]
  },
  {
   "cell_type": "code",
   "execution_count": 17,
   "metadata": {
    "id": "vw13z8XXCGLM"
   },
   "outputs": [],
   "source": [
    "model.compile(loss=\"categorical_crossentropy\",\n",
    "              optimizer=keras.optimizers.SGD(lr=0.01),\n",
    "              metrics=[\"accuracy\"])"
   ]
  },
  {
   "cell_type": "code",
   "execution_count": 18,
   "metadata": {
    "colab": {
     "base_uri": "https://localhost:8080/"
    },
    "executionInfo": {
     "elapsed": 321155,
     "status": "ok",
     "timestamp": 1605614517988,
     "user": {
      "displayName": "Haozhe Zhang",
      "photoUrl": "https://lh3.googleusercontent.com/a-/AOh14GhewCb1FImnjURCLugyfalL8wVXJomnuoEHUckN=s64",
      "userId": "15943369882491692800"
     },
     "user_tz": -60
    },
    "id": "LetraVzoCGLO",
    "outputId": "d89c4766-0395-4f22-ed21-4bd6f723055e"
   },
   "outputs": [
    {
     "name": "stdout",
     "output_type": "stream",
     "text": [
      "Epoch 1/30\n",
      "1834/1834 [==============================] - 2s 910us/step - loss: 0.7105 - accuracy: 0.7667 - val_loss: 0.5832 - val_accuracy: 0.7816\n",
      "Epoch 2/30\n",
      "1834/1834 [==============================] - 2s 844us/step - loss: 0.4819 - accuracy: 0.8322 - val_loss: 0.4924 - val_accuracy: 0.8220\n",
      "Epoch 3/30\n",
      "1834/1834 [==============================] - 2s 862us/step - loss: 0.4350 - accuracy: 0.8481 - val_loss: 0.4277 - val_accuracy: 0.8500\n",
      "Epoch 4/30\n",
      "1834/1834 [==============================] - 2s 838us/step - loss: 0.4097 - accuracy: 0.8562 - val_loss: 0.4516 - val_accuracy: 0.8376\n",
      "Epoch 5/30\n",
      "1834/1834 [==============================] - 2s 849us/step - loss: 0.3891 - accuracy: 0.8641 - val_loss: 0.4058 - val_accuracy: 0.8522\n",
      "Epoch 6/30\n",
      "1834/1834 [==============================] - 2s 851us/step - loss: 0.3733 - accuracy: 0.8678 - val_loss: 0.4114 - val_accuracy: 0.8528\n",
      "Epoch 7/30\n",
      "1834/1834 [==============================] - 2s 872us/step - loss: 0.3592 - accuracy: 0.8727 - val_loss: 0.3885 - val_accuracy: 0.8628\n",
      "Epoch 8/30\n",
      "1834/1834 [==============================] - 2s 895us/step - loss: 0.3480 - accuracy: 0.8768 - val_loss: 0.4073 - val_accuracy: 0.8572\n",
      "Epoch 9/30\n",
      "1834/1834 [==============================] - 2s 850us/step - loss: 0.3369 - accuracy: 0.8805 - val_loss: 0.3565 - val_accuracy: 0.8732\n",
      "Epoch 10/30\n",
      "1834/1834 [==============================] - 2s 914us/step - loss: 0.3275 - accuracy: 0.8826 - val_loss: 0.3624 - val_accuracy: 0.8726\n",
      "Epoch 11/30\n",
      "1834/1834 [==============================] - 2s 932us/step - loss: 0.3177 - accuracy: 0.8861 - val_loss: 0.3558 - val_accuracy: 0.8752\n",
      "Epoch 12/30\n",
      "1834/1834 [==============================] - 2s 896us/step - loss: 0.3107 - accuracy: 0.8889 - val_loss: 0.4250 - val_accuracy: 0.8518\n",
      "Epoch 13/30\n",
      "1834/1834 [==============================] - 2s 1ms/step - loss: 0.3038 - accuracy: 0.8906 - val_loss: 0.3484 - val_accuracy: 0.8770\n",
      "Epoch 14/30\n",
      "1834/1834 [==============================] - 2s 898us/step - loss: 0.2972 - accuracy: 0.8924 - val_loss: 0.4095 - val_accuracy: 0.8482\n",
      "Epoch 15/30\n",
      "1834/1834 [==============================] - 3s 2ms/step - loss: 0.2907 - accuracy: 0.8950 - val_loss: 0.3345 - val_accuracy: 0.8794\n",
      "Epoch 16/30\n",
      "1834/1834 [==============================] - 3s 2ms/step - loss: 0.2851 - accuracy: 0.8967 - val_loss: 0.3667 - val_accuracy: 0.8686\n",
      "Epoch 17/30\n",
      "1834/1834 [==============================] - 2s 1ms/step - loss: 0.2797 - accuracy: 0.8994 - val_loss: 0.3831 - val_accuracy: 0.8660\n",
      "Epoch 18/30\n",
      "1834/1834 [==============================] - 3s 1ms/step - loss: 0.2736 - accuracy: 0.9008 - val_loss: 0.3255 - val_accuracy: 0.8820\n",
      "Epoch 19/30\n",
      "1834/1834 [==============================] - 2s 1ms/step - loss: 0.2684 - accuracy: 0.9039 - val_loss: 0.3222 - val_accuracy: 0.8838\n",
      "Epoch 20/30\n",
      "1834/1834 [==============================] - 2s 1ms/step - loss: 0.2638 - accuracy: 0.9040 - val_loss: 0.3249 - val_accuracy: 0.8854\n",
      "Epoch 21/30\n",
      "1834/1834 [==============================] - 2s 1ms/step - loss: 0.2592 - accuracy: 0.9071 - val_loss: 0.3623 - val_accuracy: 0.8714\n",
      "Epoch 22/30\n",
      "1834/1834 [==============================] - 2s 965us/step - loss: 0.2545 - accuracy: 0.9079 - val_loss: 0.3197 - val_accuracy: 0.8832\n",
      "Epoch 23/30\n",
      "1834/1834 [==============================] - 2s 983us/step - loss: 0.2498 - accuracy: 0.9098 - val_loss: 0.3257 - val_accuracy: 0.8832\n",
      "Epoch 24/30\n",
      "1834/1834 [==============================] - 2s 971us/step - loss: 0.2462 - accuracy: 0.9113 - val_loss: 0.3259 - val_accuracy: 0.8832\n",
      "Epoch 25/30\n",
      "1834/1834 [==============================] - 2s 1ms/step - loss: 0.2410 - accuracy: 0.9123 - val_loss: 0.3428 - val_accuracy: 0.8838\n",
      "Epoch 26/30\n",
      "1834/1834 [==============================] - 2s 1ms/step - loss: 0.2361 - accuracy: 0.9149 - val_loss: 0.3175 - val_accuracy: 0.8862\n",
      "Epoch 27/30\n",
      "1834/1834 [==============================] - 2s 1ms/step - loss: 0.2327 - accuracy: 0.9153 - val_loss: 0.3248 - val_accuracy: 0.8872\n",
      "Epoch 28/30\n",
      "1834/1834 [==============================] - 2s 1ms/step - loss: 0.2283 - accuracy: 0.9178 - val_loss: 0.3167 - val_accuracy: 0.8880\n",
      "Epoch 29/30\n",
      "1834/1834 [==============================] - 2s 999us/step - loss: 0.2259 - accuracy: 0.9191 - val_loss: 0.3218 - val_accuracy: 0.8844\n",
      "Epoch 30/30\n",
      "1834/1834 [==============================] - 2s 940us/step - loss: 0.2217 - accuracy: 0.9202 - val_loss: 0.3089 - val_accuracy: 0.8856\n"
     ]
    }
   ],
   "source": [
    "history = model.fit(X_train, y_train, batch_size=30, epochs=30, validation_data=(X_valid, y_valid))"
   ]
  },
  {
   "cell_type": "code",
   "execution_count": 19,
   "metadata": {
    "colab": {
     "base_uri": "https://localhost:8080/",
     "height": 487
    },
    "executionInfo": {
     "elapsed": 321594,
     "status": "ok",
     "timestamp": 1605614518435,
     "user": {
      "displayName": "Haozhe Zhang",
      "photoUrl": "https://lh3.googleusercontent.com/a-/AOh14GhewCb1FImnjURCLugyfalL8wVXJomnuoEHUckN=s64",
      "userId": "15943369882491692800"
     },
     "user_tz": -60
    },
    "id": "eUtPNrz1CGLQ",
    "outputId": "8a23e5cb-9db0-4798-f984-3c18f7087e59"
   },
   "outputs": [
    {
     "data": {
      "image/png": "[encoded data removed]",
      "text/plain": [
       "<Figure size 864x576 with 1 Axes>"
      ]
     },
     "metadata": {
      "needs_background": "light"
     },
     "output_type": "display_data"
    }
   ],
   "source": [
    "pd.DataFrame(history.history).plot(figsize=(12, 8))\n",
    "plt.gca().set_ylim(0, 1)\n",
    "plt.grid(True)\n",
    "plt.show()"
   ]
  },
  {
   "cell_type": "code",
   "execution_count": 20,
   "metadata": {
    "colab": {
     "base_uri": "https://localhost:8080/"
    },
    "executionInfo": {
     "elapsed": 322385,
     "status": "ok",
     "timestamp": 1605614519235,
     "user": {
      "displayName": "Haozhe Zhang",
      "photoUrl": "https://lh3.googleusercontent.com/a-/AOh14GhewCb1FImnjURCLugyfalL8wVXJomnuoEHUckN=s64",
      "userId": "15943369882491692800"
     },
     "user_tz": -60
    },
    "id": "Pe03aPyQP3Gv",
    "outputId": "aac14ac6-2930-42a5-ea49-94589d504485"
   },
   "outputs": [
    {
     "name": "stdout",
     "output_type": "stream",
     "text": [
      "313/313 [==============================] - 0s 601us/step - loss: 0.3296 - accuracy: 0.8859\n"
     ]
    },
    {
     "data": {
      "text/plain": [
       "[0.32963767647743225, 0.8859000205993652]"
      ]
     },
     "execution_count": 20,
     "metadata": {},
     "output_type": "execute_result"
    }
   ],
   "source": [
    "model.evaluate(X_test, y_test)"
   ]
  },
  {
   "cell_type": "markdown",
   "metadata": {
    "id": "PUnqv9Q8Rxel"
   },
   "source": [
    "## Make predictions"
   ]
  },
  {
   "cell_type": "code",
   "execution_count": 21,
   "metadata": {
    "colab": {
     "base_uri": "https://localhost:8080/"
    },
    "executionInfo": {
     "elapsed": 322378,
     "status": "ok",
     "timestamp": 1605614519236,
     "user": {
      "displayName": "Haozhe Zhang",
      "photoUrl": "https://lh3.googleusercontent.com/a-/AOh14GhewCb1FImnjURCLugyfalL8wVXJomnuoEHUckN=s64",
      "userId": "15943369882491692800"
     },
     "user_tz": -60
    },
    "id": "FJuxt1EiRY8N",
    "outputId": "a96f35eb-c6f2-4645-a11d-e586e557bca6"
   },
   "outputs": [
    {
     "data": {
      "text/plain": [
       "array([[0.   , 0.   , 0.   , 0.   , 0.   , 0.014, 0.   , 0.033, 0.001,\n",
       "        0.953],\n",
       "       [0.   , 0.   , 0.997, 0.   , 0.003, 0.   , 0.   , 0.   , 0.   ,\n",
       "        0.   ],\n",
       "       [0.   , 1.   , 0.   , 0.   , 0.   , 0.   , 0.   , 0.   , 0.   ,\n",
       "        0.   ]], dtype=float32)"
      ]
     },
     "execution_count": 21,
     "metadata": {},
     "output_type": "execute_result"
    }
   ],
   "source": [
    "y_prob = model.predict(X_test[:3])\n",
    "y_prob.round(3)"
   ]
  },
  {
   "cell_type": "code",
   "execution_count": 22,
   "metadata": {
    "colab": {
     "base_uri": "https://localhost:8080/"
    },
    "executionInfo": {
     "elapsed": 322369,
     "status": "ok",
     "timestamp": 1605614519236,
     "user": {
      "displayName": "Haozhe Zhang",
      "photoUrl": "https://lh3.googleusercontent.com/a-/AOh14GhewCb1FImnjURCLugyfalL8wVXJomnuoEHUckN=s64",
      "userId": "15943369882491692800"
     },
     "user_tz": -60
    },
    "id": "ncPz7Dp8SFol",
    "outputId": "61850c88-7a44-49d6-b594-c7bc0551c03f"
   },
   "outputs": [
    {
     "name": "stdout",
     "output_type": "stream",
     "text": [
      "[9 2 1]\n",
      "Prediction:  ['Ankle boot', 'Pullover', 'Trouser']\n"
     ]
    }
   ],
   "source": [
    "# y_pred = model.predict_classes(X_test[:3])\n",
    "y_pred = np.argmax(model.predict(X_test[:3]), axis=-1)\n",
    "print(y_pred)\n",
    "print(\"Prediction: \", [class_names[i] for i in y_pred])\n"
   ]
  },
  {
   "cell_type": "markdown",
   "metadata": {
    "id": "7TiC8lB673bh"
   },
   "source": [
    "## Saving and Restoring a Model"
   ]
  },
  {
   "cell_type": "code",
   "execution_count": 27,
   "metadata": {
    "id": "YyUu7QB077lJ"
   },
   "outputs": [],
   "source": [
    "model.save(\"keras_model.h5\")"
   ]
  },
  {
   "cell_type": "code",
   "execution_count": 28,
   "metadata": {
    "id": "0GeE3Gxi8DA5"
   },
   "outputs": [],
   "source": [
    "model = keras.models.load_model(\"keras_model.h5\")"
   ]
  },
  {
   "cell_type": "code",
   "execution_count": 29,
   "metadata": {
    "colab": {
     "base_uri": "https://localhost:8080/"
    },
    "executionInfo": {
     "elapsed": 322594,
     "status": "ok",
     "timestamp": 1605614519473,
     "user": {
      "displayName": "Haozhe Zhang",
      "photoUrl": "https://lh3.googleusercontent.com/a-/AOh14GhewCb1FImnjURCLugyfalL8wVXJomnuoEHUckN=s64",
      "userId": "15943369882491692800"
     },
     "user_tz": -60
    },
    "id": "RS0bam578aL3",
    "outputId": "f9b566fa-9b71-41fc-841a-618ffef5894e"
   },
   "outputs": [
    {
     "name": "stdout",
     "output_type": "stream",
     "text": [
      "[9 2 1]\n",
      "Prediction:  ['Ankle boot', 'Pullover', 'Trouser']\n"
     ]
    }
   ],
   "source": [
    "y_pred = np.argmax(model.predict(X_test[:3]), axis=-1)\n",
    "print(y_pred)\n",
    "print(\"Prediction: \", [class_names[i] for i in y_pred])"
   ]
  },
  {
   "cell_type": "code",
   "execution_count": null,
   "metadata": {
    "id": "ZSqizRbBCaBj"
   },
   "outputs": [],
   "source": []
  }
 ],
 "metadata": {
  "colab": {
   "collapsed_sections": [],
   "name": "ANN.ipynb",
   "provenance": [],
   "toc_visible": true
  },
  "kernelspec": {
   "display_name": "Python 3",
   "language": "python",
   "name": "python3"
  },
  "language_info": {
   "codemirror_mode": {
    "name": "ipython",
    "version": 3
   },
   "file_extension": ".py",
   "mimetype": "text/x-python",
   "name": "python",
   "nbconvert_exporter": "python",
   "pygments_lexer": "ipython3",
   "version": "3.8.3"
  }
 },
 "nbformat": 4,
 "nbformat_minor": 4
}
