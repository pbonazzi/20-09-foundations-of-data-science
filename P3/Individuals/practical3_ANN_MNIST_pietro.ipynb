{
  "nbformat": 4,
  "nbformat_minor": 0,
  "metadata": {
    "kernelspec": {
      "display_name": "Python 3",
      "language": "python",
      "name": "python3"
    },
    "language_info": {
      "codemirror_mode": {
        "name": "ipython",
        "version": 3
      },
      "file_extension": ".py",
      "mimetype": "text/x-python",
      "name": "python",
      "nbconvert_exporter": "python",
      "pygments_lexer": "ipython3",
      "version": "3.8.3"
    },
    "colab": {
      "name": "p3_pietro_ANN.ipynb",
      "provenance": [],
      "collapsed_sections": [
        "N3J3lHewjdJx",
        "wNOEqLe9jdJ1"
      ],
      "toc_visible": true
    }
  },
  "cells": [
    {
      "cell_type": "markdown",
      "metadata": {
        "id": "GmAUpYZcjdJi"
      },
      "source": [
        "# Practical 3: Artificial Neural Network\n",
        "\n",
        "This is the first task of Practical 3. You will build a neural network to classify the handwritten digits from the MNIST dataset (http://yann.lecun.com/exdb/mnist/). \n",
        "You will build the classifier from scratch. \n",
        "\n",
        "We will mark your code based on the accuracy of your model. You should get **at least 97%** accuracy on this dataset. Don't forget to save and check in your model. "
      ]
    },
    {
      "cell_type": "markdown",
      "metadata": {
        "id": "N3J3lHewjdJx"
      },
      "source": [
        "## Import the libraries"
      ]
    },
    {
      "cell_type": "code",
      "metadata": {
        "id": "L4irhHQtjdJy"
      },
      "source": [
        "import numpy as np\n",
        "import pandas as pd\n",
        "import matplotlib.pyplot as plt\n",
        "import os\n",
        "\n",
        "import tensorflow as tf\n",
        "from tensorflow import keras\n",
        "from keras.callbacks import ReduceLROnPlateau"
      ],
      "execution_count": null,
      "outputs": []
    },
    {
      "cell_type": "code",
      "metadata": {
        "colab": {
          "base_uri": "https://localhost:8080/",
          "height": 35
        },
        "id": "cARflUCejdJz",
        "outputId": "c4df8084-3148-45eb-c220-fb8aa9ce87f1"
      },
      "source": [
        "tf.__version__"
      ],
      "execution_count": null,
      "outputs": [
        {
          "output_type": "execute_result",
          "data": {
            "application/vnd.google.colaboratory.intrinsic+json": {
              "type": "string"
            },
            "text/plain": [
              "'2.4.0'"
            ]
          },
          "metadata": {
            "tags": []
          },
          "execution_count": 5
        }
      ]
    },
    {
      "cell_type": "code",
      "metadata": {
        "colab": {
          "base_uri": "https://localhost:8080/",
          "height": 35
        },
        "id": "X7KnRPZ7jdJ1",
        "outputId": "fe96e11c-69a0-4792-e5b0-a2fff3a36953"
      },
      "source": [
        "tf.keras.__version__"
      ],
      "execution_count": null,
      "outputs": [
        {
          "output_type": "execute_result",
          "data": {
            "application/vnd.google.colaboratory.intrinsic+json": {
              "type": "string"
            },
            "text/plain": [
              "'2.4.0'"
            ]
          },
          "metadata": {
            "tags": []
          },
          "execution_count": 6
        }
      ]
    },
    {
      "cell_type": "markdown",
      "metadata": {
        "id": "wNOEqLe9jdJ1"
      },
      "source": [
        "## Prepare the dataset\n",
        "\n",
        "In this block, you will prepare the data for the training, such as normalisation. "
      ]
    },
    {
      "cell_type": "code",
      "metadata": {
        "colab": {
          "base_uri": "https://localhost:8080/"
        },
        "id": "J_eHrx0ojdJ2",
        "outputId": "793b5122-2970-440b-c83d-73556a167a5f"
      },
      "source": [
        "from keras.datasets import mnist\n",
        "(X_train_full, y_train_full), (X_test, y_test) = mnist.load_data()\n",
        "\n",
        "for i in range(0,9):\n",
        "    plt.subplot(330 + 1 + i)\n",
        "    plt.imshow(X_train_full[i])\n",
        "plt.show()\n",
        "\n",
        "X_train_full.shape"
      ],
      "execution_count": null,
      "outputs": [
        {
          "output_type": "stream",
          "text": [
            "Downloading data from https://storage.googleapis.com/tensorflow/tf-keras-datasets/mnist.npz\n",
            "11493376/11490434 [==============================] - 0s 0us/step\n"
          ],
          "name": "stdout"
        },
        {
          "output_type": "display_data",
          "data": {
            "image/png": "[encoded data removed]",
            "text/plain": [
              "<Figure size 432x288 with 9 Axes>"
            ]
          },
          "metadata": {
            "tags": [],
            "needs_background": "light"
          }
        },
        {
          "output_type": "execute_result",
          "data": {
            "text/plain": [
              "(60000, 28, 28)"
            ]
          },
          "metadata": {
            "tags": []
          },
          "execution_count": 7
        }
      ]
    },
    {
      "cell_type": "code",
      "metadata": {
        "colab": {
          "base_uri": "https://localhost:8080/"
        },
        "id": "9ctTxYmugnEK",
        "outputId": "5b6dcc0b-6d39-4cc4-c555-3ec50c88e75d"
      },
      "source": [
        "#plt.imshow(X_train_full[125])\n",
        "#X_train_full.dtype\n",
        "\n",
        "fig = plt.figure\n",
        "plt.imshow(X_train_full[0], cmap='gray_r')\n",
        "plt.show()\n",
        "\n",
        "# This array lists the classes of the label\n",
        "# the labels are stored as indices of the classes\n",
        "class_names = [\"0\", \"1\", \"2\", \"3\", \"4\",\"5\", \"6\", \"7\", \"8\", \"9\"]\n",
        "print(y_train_full[0], class_names[y_train_full[0]])\n",
        "# This label index of the image is 9, and it corresponds to the class Ankle boot"
      ],
      "execution_count": null,
      "outputs": [
        {
          "output_type": "display_data",
          "data": {
            "image/png": "[encoded data removed]",
            "text/plain": [
              "<Figure size 432x288 with 1 Axes>"
            ]
          },
          "metadata": {
            "tags": [],
            "needs_background": "light"
          }
        },
        {
          "output_type": "stream",
          "text": [
            "5 5\n"
          ],
          "name": "stdout"
        }
      ]
    },
    {
      "cell_type": "code",
      "metadata": {
        "colab": {
          "base_uri": "https://localhost:8080/"
        },
        "id": "fD2AxABkk0r8",
        "outputId": "dc5e669b-cee1-4e26-96e4-5c9d2f3ea090"
      },
      "source": [
        "# here I alos write this function to show the first 10 images in the dataset\n",
        "# you can see there are clothes belonging to different classes, such as Ankle boot, T-shirt\n",
        "# Our aim is to build a classifer that can classify the images to their classes\n",
        "def image_plot(X, y, num=10):\n",
        "    # plot data\n",
        "    num_row = 2\n",
        "    num_col = 5\n",
        "\n",
        "    images = X[:num]\n",
        "    labels = y[:num]\n",
        "\n",
        "    # plot images\n",
        "    fig, axes = plt.subplots(num_row, num_col, figsize=(1.5*num_col,2*num_row))\n",
        "    for i in range(num):\n",
        "        ax = axes[i//num_col, i%num_col]\n",
        "        ax.imshow(images[i], cmap='gray_r')\n",
        "        ax.set_title('{}'.format(class_names[labels[i]]))\n",
        "    plt.tight_layout()\n",
        "    plt.show()\n",
        "\n",
        "image_plot(X_train_full, y_train_full)"
      ],
      "execution_count": null,
      "outputs": [
        {
          "output_type": "display_data",
          "data": {
            "image/png": "[encoded data removed]",
            "text/plain": [
              "<Figure size 540x288 with 10 Axes>"
            ]
          },
          "metadata": {
            "tags": [],
            "needs_background": "light"
          }
        }
      ]
    },
    {
      "cell_type": "code",
      "metadata": {
        "id": "nRJZlsv_k9jR"
      },
      "source": [
        "# normalisation\n",
        "X_train_full = X_train_full/255.0\n",
        "X_test = X_test/255.0"
      ],
      "execution_count": null,
      "outputs": []
    },
    {
      "cell_type": "code",
      "metadata": {
        "colab": {
          "base_uri": "https://localhost:8080/"
        },
        "id": "OSI6s0JWslqr",
        "outputId": "bf86a689-918e-4b08-ace3-40ded9640588"
      },
      "source": [
        "# Converts a class vector (integers) to one-hot encoding matrix.\n",
        "y_train_full = keras.utils.to_categorical(y_train_full, num_classes=10)\n",
        "y_test = keras.utils.to_categorical(y_test, num_classes=10)\n",
        "\n",
        "y_train_full[0]"
      ],
      "execution_count": null,
      "outputs": [
        {
          "output_type": "execute_result",
          "data": {
            "text/plain": [
              "array([0., 0., 0., 0., 0., 1., 0., 0., 0., 0.], dtype=float32)"
            ]
          },
          "metadata": {
            "tags": []
          },
          "execution_count": 11
        }
      ]
    },
    {
      "cell_type": "code",
      "metadata": {
        "id": "hJq4q4wBlCVo"
      },
      "source": [
        "# get validation dataset\n",
        "# then we need to get the validation dataset. We take 5 thoudsands images randomly from the training data, as the validation data\n",
        "np.random.seed(42) \n",
        "shuffled_indices = np.random.permutation(X_train_full.shape[0])\n",
        "X_valid, X_train = X_train_full[shuffled_indices[:5000]], X_train_full[shuffled_indices[5000:]]\n",
        "y_valid, y_train = y_train_full[shuffled_indices[:5000]], y_train_full[shuffled_indices[5000:]]"
      ],
      "execution_count": null,
      "outputs": []
    },
    {
      "cell_type": "markdown",
      "metadata": {
        "id": "zGgQ8XnWjdJ2"
      },
      "source": [
        "## Build and train the model\n",
        "\n",
        "Build and train your model. "
      ]
    },
    {
      "cell_type": "code",
      "metadata": {
        "id": "ziQ9IvcxjdJ3"
      },
      "source": [
        "# TODO: Build your model\n",
        "\n",
        "# The model starts with a input layer with 28 x 28 \n",
        "model = keras.models.Sequential(\n",
        "    [\n",
        "      keras.Input(input_shape=[28, 28]),\n",
        "      layers.Flatten(),\n",
        "      layers.Dropout(rate=0.2),\n",
        "      layers.Dense(200, activation=\"elu\", kernel_initializer=\"he_normal\"),\n",
        "      layers.BatchNormalization(),\n",
        "      layers.Dropout(rate=0.1),\n",
        "      layers.Dense(100, activation=\"elu\", kernel_initializer=\"he_normal\"),\n",
        "      layers.BatchNormalization(),\n",
        "      layers.Dropout(rate=0.1),\n",
        "      layers.Dense(100, activation=\"elu\", kernel_initializer=\"he_normal\"),\n",
        "      layers.BatchNormalization(),\n",
        "      layers.Dropout(rate=0.1),\n",
        "      layers.Dense(100, activation=\"elu\", kernel_initializer=\"he_normal\"),\n",
        "      layers.Dropout(rate=0.1),\n",
        "      layers.BatchNormalization(),\n",
        "      layers.Dense(10, activation=\"softmax\"),\n",
        "  ]\n",
        "\n",
        "model.compile(loss=\"categorical_crossentropy\",\n",
        "              optimizer=keras.optimizers.Adam(lr=0.0015),\n",
        "              metrics=[\"accuracy\"])"
      ],
      "execution_count": null,
      "outputs": []
    },
    {
      "cell_type": "code",
      "metadata": {
        "id": "3JMqb314jdJ3",
        "colab": {
          "base_uri": "https://localhost:8080/"
        },
        "outputId": "bb5da3d9-bc8e-4019-88b6-f80e134cd3bd"
      },
      "source": [
        "# show the structure of your model\n",
        "model.summary()"
      ],
      "execution_count": null,
      "outputs": [
        {
          "output_type": "stream",
          "text": [
            "Model: \"sequential_4\"\n",
            "_________________________________________________________________\n",
            "Layer (type)                 Output Shape              Param #   \n",
            "=================================================================\n",
            "flatten_4 (Flatten)          (None, 784)               0         \n",
            "_________________________________________________________________\n",
            "dropout_19 (Dropout)         (None, 784)               0         \n",
            "_________________________________________________________________\n",
            "dense_20 (Dense)             (None, 200)               157000    \n",
            "_________________________________________________________________\n",
            "batch_normalization_16 (Batc (None, 200)               800       \n",
            "_________________________________________________________________\n",
            "dropout_20 (Dropout)         (None, 200)               0         \n",
            "_________________________________________________________________\n",
            "dense_21 (Dense)             (None, 100)               20100     \n",
            "_________________________________________________________________\n",
            "batch_normalization_17 (Batc (None, 100)               400       \n",
            "_________________________________________________________________\n",
            "dropout_21 (Dropout)         (None, 100)               0         \n",
            "_________________________________________________________________\n",
            "dense_22 (Dense)             (None, 100)               10100     \n",
            "_________________________________________________________________\n",
            "dropout_22 (Dropout)         (None, 100)               0         \n",
            "_________________________________________________________________\n",
            "batch_normalization_18 (Batc (None, 100)               400       \n",
            "_________________________________________________________________\n",
            "dense_23 (Dense)             (None, 100)               10100     \n",
            "_________________________________________________________________\n",
            "batch_normalization_19 (Batc (None, 100)               400       \n",
            "_________________________________________________________________\n",
            "dense_24 (Dense)             (None, 10)                1010      \n",
            "=================================================================\n",
            "Total params: 200,310\n",
            "Trainable params: 199,310\n",
            "Non-trainable params: 1,000\n",
            "_________________________________________________________________\n"
          ],
          "name": "stdout"
        }
      ]
    },
    {
      "cell_type": "code",
      "metadata": {
        "id": "HpTi7lF2s6Z4",
        "colab": {
          "base_uri": "https://localhost:8080/"
        },
        "outputId": "d33d826d-fcef-43d4-8412-281e02b84761"
      },
      "source": [
        "early_stopping_cb = keras.callbacks.EarlyStopping(patience=10, restore_best_weights=True)\n",
        "reduce_lr = ReduceLROnPlateau(monitor='val_accuracy', factor=0.2, patience=2)\n",
        "history = model.fit(X_train, y_train, batch_size=33, epochs=33, validation_data=(X_valid, y_valid), callbacks=[early_stopping_cb, reduce_lr])"
      ],
      "execution_count": null,
      "outputs": [
        {
          "output_type": "stream",
          "text": [
            "Epoch 1/33\n",
            "1667/1667 [==============================] - 11s 6ms/step - loss: 0.5181 - accuracy: 0.8353 - val_loss: 0.1310 - val_accuracy: 0.9588\n",
            "Epoch 2/33\n",
            "1667/1667 [==============================] - 10s 6ms/step - loss: 0.2280 - accuracy: 0.9285 - val_loss: 0.0995 - val_accuracy: 0.9676\n",
            "Epoch 3/33\n",
            "1667/1667 [==============================] - 9s 6ms/step - loss: 0.1834 - accuracy: 0.9430 - val_loss: 0.0902 - val_accuracy: 0.9740\n",
            "Epoch 4/33\n",
            "1667/1667 [==============================] - 9s 6ms/step - loss: 0.1504 - accuracy: 0.9525 - val_loss: 0.0818 - val_accuracy: 0.9746\n",
            "Epoch 5/33\n",
            "1667/1667 [==============================] - 10s 6ms/step - loss: 0.1415 - accuracy: 0.9558 - val_loss: 0.0748 - val_accuracy: 0.9778\n",
            "Epoch 6/33\n",
            "1667/1667 [==============================] - 10s 6ms/step - loss: 0.1221 - accuracy: 0.9615 - val_loss: 0.0756 - val_accuracy: 0.9784\n",
            "Epoch 7/33\n",
            "1667/1667 [==============================] - 9s 6ms/step - loss: 0.1157 - accuracy: 0.9639 - val_loss: 0.0638 - val_accuracy: 0.9810\n",
            "Epoch 8/33\n",
            "1667/1667 [==============================] - 9s 6ms/step - loss: 0.1045 - accuracy: 0.9681 - val_loss: 0.0636 - val_accuracy: 0.9812\n",
            "Epoch 9/33\n",
            "1667/1667 [==============================] - 9s 6ms/step - loss: 0.1005 - accuracy: 0.9686 - val_loss: 0.0674 - val_accuracy: 0.9802\n",
            "Epoch 10/33\n",
            "1667/1667 [==============================] - 9s 6ms/step - loss: 0.0931 - accuracy: 0.9705 - val_loss: 0.0572 - val_accuracy: 0.9822\n",
            "Epoch 11/33\n",
            "1667/1667 [==============================] - 9s 6ms/step - loss: 0.0914 - accuracy: 0.9707 - val_loss: 0.0546 - val_accuracy: 0.9838\n",
            "Epoch 12/33\n",
            "1667/1667 [==============================] - 9s 6ms/step - loss: 0.0851 - accuracy: 0.9730 - val_loss: 0.0571 - val_accuracy: 0.9840\n",
            "Epoch 13/33\n",
            "1667/1667 [==============================] - 9s 6ms/step - loss: 0.0771 - accuracy: 0.9748 - val_loss: 0.0600 - val_accuracy: 0.9828\n",
            "Epoch 14/33\n",
            "1667/1667 [==============================] - 9s 6ms/step - loss: 0.0752 - accuracy: 0.9756 - val_loss: 0.0491 - val_accuracy: 0.9860\n",
            "Epoch 15/33\n",
            "1667/1667 [==============================] - 10s 6ms/step - loss: 0.0714 - accuracy: 0.9758 - val_loss: 0.0567 - val_accuracy: 0.9834\n",
            "Epoch 16/33\n",
            "1667/1667 [==============================] - 10s 6ms/step - loss: 0.0712 - accuracy: 0.9774 - val_loss: 0.0524 - val_accuracy: 0.9824\n",
            "Epoch 17/33\n",
            "1667/1667 [==============================] - 10s 6ms/step - loss: 0.0597 - accuracy: 0.9809 - val_loss: 0.0463 - val_accuracy: 0.9856\n",
            "Epoch 18/33\n",
            "1667/1667 [==============================] - 10s 6ms/step - loss: 0.0564 - accuracy: 0.9826 - val_loss: 0.0463 - val_accuracy: 0.9870\n",
            "Epoch 19/33\n",
            "1667/1667 [==============================] - 10s 6ms/step - loss: 0.0510 - accuracy: 0.9832 - val_loss: 0.0499 - val_accuracy: 0.9858\n",
            "Epoch 20/33\n",
            "1667/1667 [==============================] - 10s 6ms/step - loss: 0.0484 - accuracy: 0.9845 - val_loss: 0.0486 - val_accuracy: 0.9846\n",
            "Epoch 21/33\n",
            "1667/1667 [==============================] - 10s 6ms/step - loss: 0.0500 - accuracy: 0.9833 - val_loss: 0.0467 - val_accuracy: 0.9858\n",
            "Epoch 22/33\n",
            "1667/1667 [==============================] - 9s 6ms/step - loss: 0.0451 - accuracy: 0.9857 - val_loss: 0.0460 - val_accuracy: 0.9860\n",
            "Epoch 23/33\n",
            "1667/1667 [==============================] - 9s 6ms/step - loss: 0.0434 - accuracy: 0.9858 - val_loss: 0.0463 - val_accuracy: 0.9866\n",
            "Epoch 24/33\n",
            "1667/1667 [==============================] - 10s 6ms/step - loss: 0.0437 - accuracy: 0.9862 - val_loss: 0.0446 - val_accuracy: 0.9868\n",
            "Epoch 25/33\n",
            "1667/1667 [==============================] - 10s 6ms/step - loss: 0.0461 - accuracy: 0.9847 - val_loss: 0.0456 - val_accuracy: 0.9864\n",
            "Epoch 26/33\n",
            "1667/1667 [==============================] - 10s 6ms/step - loss: 0.0428 - accuracy: 0.9863 - val_loss: 0.0458 - val_accuracy: 0.9864\n",
            "Epoch 27/33\n",
            "1667/1667 [==============================] - 10s 6ms/step - loss: 0.0423 - accuracy: 0.9860 - val_loss: 0.0451 - val_accuracy: 0.9866\n",
            "Epoch 28/33\n",
            "1667/1667 [==============================] - 10s 6ms/step - loss: 0.0419 - accuracy: 0.9865 - val_loss: 0.0453 - val_accuracy: 0.9864\n",
            "Epoch 29/33\n",
            "1667/1667 [==============================] - 10s 6ms/step - loss: 0.0415 - accuracy: 0.9866 - val_loss: 0.0451 - val_accuracy: 0.9860\n",
            "Epoch 30/33\n",
            "1667/1667 [==============================] - 10s 6ms/step - loss: 0.0435 - accuracy: 0.9859 - val_loss: 0.0455 - val_accuracy: 0.9864\n",
            "Epoch 31/33\n",
            "1667/1667 [==============================] - 10s 6ms/step - loss: 0.0467 - accuracy: 0.9853 - val_loss: 0.0455 - val_accuracy: 0.9862\n",
            "Epoch 32/33\n",
            "1667/1667 [==============================] - 10s 6ms/step - loss: 0.0474 - accuracy: 0.9841 - val_loss: 0.0457 - val_accuracy: 0.9864\n",
            "Epoch 33/33\n",
            "1667/1667 [==============================] - 10s 6ms/step - loss: 0.0422 - accuracy: 0.9868 - val_loss: 0.0467 - val_accuracy: 0.9858\n"
          ],
          "name": "stdout"
        }
      ]
    },
    {
      "cell_type": "code",
      "metadata": {
        "colab": {
          "base_uri": "https://localhost:8080/",
          "height": 487
        },
        "id": "4Ge88fsBjdJ3",
        "outputId": "ce3fe6eb-e8c9-46d8-9fd5-012879b9ea64"
      },
      "source": [
        "# Assume you have stored the training history in the variable \"history\"\n",
        "# Show the learning curves\n",
        "pd.DataFrame(history.history).plot(figsize=(12, 8))\n",
        "plt.gca().set_ylim(0, 1)\n",
        "plt.grid(True)\n",
        "plt.show()"
      ],
      "execution_count": null,
      "outputs": [
        {
          "output_type": "display_data",
          "data": {
            "image/png": "[encoded data removed]",
            "text/plain": [
              "<Figure size 864x576 with 1 Axes>"
            ]
          },
          "metadata": {
            "tags": [],
            "needs_background": "light"
          }
        }
      ]
    },
    {
      "cell_type": "markdown",
      "metadata": {
        "id": "3iNs1tNijdJ3"
      },
      "source": [
        "## Save the model"
      ]
    },
    {
      "cell_type": "code",
      "metadata": {
        "colab": {
          "base_uri": "https://localhost:8080/"
        },
        "id": "axOvxKkfu-dn",
        "outputId": "b06f922b-d955-413c-e085-62c676f54093"
      },
      "source": [
        "model.save('mnist.h1')"
      ],
      "execution_count": null,
      "outputs": [
        {
          "output_type": "stream",
          "text": [
            "INFO:tensorflow:Assets written to: mnist.h1/assets\n"
          ],
          "name": "stdout"
        }
      ]
    },
    {
      "cell_type": "markdown",
      "metadata": {
        "id": "xLeHKRQUjdJ4"
      },
      "source": [
        "## Load the model and evaluate it on the test data"
      ]
    },
    {
      "cell_type": "code",
      "metadata": {
        "colab": {
          "base_uri": "https://localhost:8080/"
        },
        "id": "gx5Sno9MjdJ4",
        "outputId": "22283d80-92c7-4507-ea22-894847098645"
      },
      "source": [
        "model = keras.models.load_model(\"mnist.h1\")\n",
        "model.evaluate(X_test, y_test)"
      ],
      "execution_count": null,
      "outputs": [
        {
          "output_type": "stream",
          "text": [
            "313/313 [==============================] - 1s 2ms/step - loss: 0.0433 - accuracy: 0.9870\n"
          ],
          "name": "stdout"
        },
        {
          "output_type": "execute_result",
          "data": {
            "text/plain": [
              "[0.0433402918279171, 0.9869999885559082]"
            ]
          },
          "metadata": {
            "tags": []
          },
          "execution_count": 57
        }
      ]
    },
    {
      "cell_type": "markdown",
      "metadata": {
        "id": "jP8URP0EjdJ4"
      },
      "source": [
        "## Short report\n",
        "\n",
        "Please write briefly how you build and train the model. Please include the decisions you made, such as why you use x number layers, and the difficulties you met."
      ]
    },
    {
      "cell_type": "markdown",
      "metadata": {
        "id": "JqzMZLnVjdJ5"
      },
      "source": [
        "####**Number of neurons**\n",
        "Before implemeting the neuronal network, three rules of thumb have been taken in consideration regarding the number of neurons. (https://www.researchgate.net/post/How-to-decide-the-number-of-hidden-layers-and-nodes-in-a-hidden-layer)\n",
        "\n",
        "1. The number of hidden neurons should be between the size of the input layer (784) and the size of the output layer (10). \n",
        "\n",
        "2. The number of hidden neurons should be 2/3 the size of the input layer, plus the size of the output layer. (533)\n",
        "\n",
        "3. The number of hidden neurons should be less than twice the size of the input layer. (1568)\n",
        "\n",
        "Following these guidelines, the first implementation started with 500 hidden neurons. The number progressively increased until overfitting was reached.\n",
        "\n",
        "####**Number of hidden layers**\n",
        "\n",
        "Following the lecture made by the TA, it has been decided to start with two hidden layers and than progressively increasing the number until overfitting. This strategy rely on the well known qualities of Deep Neurons Networks (high parameter efficiency and hierarchical structurization of the features)\n",
        "\n",
        "####**Batches Size and epochs**\n",
        "\n",
        "The numbers of both mini batches and epochs have been set to 28 (sqrt of 784) and then gradually increased up to 33. Early stopping has also been implemented (with patience = 10).\n",
        "\n",
        "####**Functions and initializers**\n",
        "\n",
        "All nodes have an activation functions. To avoid saturation and vanishing gradients, the best ReLU variant for the activation function is the Exponential linear unit (ELU) activation function has been chosen. The He initializer has been chosen over the Glorot because it is more suited for Relu functions. \n",
        "\n",
        "After testing over the validation data set, the softmax function was preferred over the sigmoid function for the last layer. Finally, given the nature of the problem, the categorical cross entropy loss function has been selected to compile the model. The reason behind it is to avoid the loss of information that occur with the scarse categorical cross entropy loss function.\n",
        "\n",
        "####**Normalisation**\n",
        "\n",
        "To reduces the vanishing gradients problem and speed up the learning curve, batch normalisation has been systematically placed after the output of every hidden layers. \n",
        "\n",
        "####**Optimizer**\n",
        "\n",
        "Combining the ideas of momentum optimisation (acceleration) and adaptive learning rates, the Adam optimizer has been preferred. First, the step size was set to 0.0015 then it was slowly decreased to improve the accuracy of the model using the ReduceOnPlateau function (patience = 2, factor of 0.2 over the validation accuracy). \n",
        "\n",
        "####**Dropout**\n",
        "\n",
        "Finally, different dropout rates have been set in order to reduce overfitting.\n",
        "\n",
        "####**Challenge**\n",
        "\n",
        "Following the best practises increased significantly both the complexity and the time to compute the model. The model plateaued at 0.987 accurancy. \n"
      ]
    }
  ]
}