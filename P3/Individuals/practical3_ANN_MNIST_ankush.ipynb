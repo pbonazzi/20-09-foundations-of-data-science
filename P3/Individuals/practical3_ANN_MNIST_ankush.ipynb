{
 "cells": [
  {
   "cell_type": "markdown",
   "metadata": {},
   "source": [
    "# Practical 3: Artificial Neural Network\n",
    "\n",
    "This is the first task of Practical 3. You will build a neural network to classify the handwritten digits from the MNIST dataset (http://yann.lecun.com/exdb/mnist/). \n",
    "You will build the classifier from scartch. \n",
    "\n",
    "We will mark your code based on the accuracy of your model. You should get **at least 97%** accuracy on this dataset. Don't forget to save and check in your model. "
   ]
  },
  {
   "cell_type": "markdown",
   "metadata": {},
   "source": [
    "## Import the libraries"
   ]
  },
  {
   "cell_type": "code",
   "execution_count": 2,
   "metadata": {
    "scrolled": true
   },
   "outputs": [],
   "source": [
    "# !pip install keras"
   ]
  },
  {
   "cell_type": "code",
   "execution_count": 3,
   "metadata": {},
   "outputs": [],
   "source": [
    "import numpy as np\n",
    "import pandas as pd\n",
    "import matplotlib.pyplot as plt\n",
    "\n",
    "import tensorflow as tf\n",
    "from tensorflow import keras"
   ]
  },
  {
   "cell_type": "code",
   "execution_count": 4,
   "metadata": {},
   "outputs": [
    {
     "data": {
      "text/plain": [
       "'2.4.0'"
      ]
     },
     "execution_count": 4,
     "metadata": {},
     "output_type": "execute_result"
    }
   ],
   "source": [
    "tf.__version__"
   ]
  },
  {
   "cell_type": "code",
   "execution_count": 5,
   "metadata": {},
   "outputs": [
    {
     "data": {
      "text/plain": [
       "'2.4.0'"
      ]
     },
     "execution_count": 5,
     "metadata": {},
     "output_type": "execute_result"
    }
   ],
   "source": [
    "tf.keras.__version__"
   ]
  },
  {
   "cell_type": "markdown",
   "metadata": {},
   "source": [
    "## Prepare the dataset\n",
    "\n",
    "In this block, you will prepare the data for the training, such as normalisation. "
   ]
  },
  {
   "cell_type": "code",
   "execution_count": 6,
   "metadata": {},
   "outputs": [
    {
     "data": {
      "image/png": "[encoded data removed]",
      "text/plain": [
       "<Figure size 432x288 with 9 Axes>"
      ]
     },
     "metadata": {
      "needs_background": "light"
     },
     "output_type": "display_data"
    },
    {
     "name": "stdout",
     "output_type": "stream",
     "text": [
      "(60000, 28, 28)\n"
     ]
    },
    {
     "data": {
      "text/plain": [
       "array([5, 0, 4, ..., 5, 6, 8], dtype=uint8)"
      ]
     },
     "execution_count": 6,
     "metadata": {},
     "output_type": "execute_result"
    }
   ],
   "source": [
    "from keras.datasets import mnist\n",
    "(X_train_full, y_train_full), (X_test, y_test) = mnist.load_data()\n",
    "\n",
    "for i in range(0,9):\n",
    "    plt.subplot(330 + 1 + i)\n",
    "    plt.imshow(X_train_full[i])\n",
    "    \n",
    "plt.show()\n",
    "\n",
    "X_train_full, X_test = X_train_full / 255.0, X_test / 255.0\n",
    "\n",
    "print(X_train_full.shape)\n",
    "\n",
    "# Add a channels dimension\n",
    "X_train_full = X_train_full[..., tf.newaxis].astype(\"float32\")\n",
    "X_test = X_test[..., tf.newaxis].astype(\"float32\")\n",
    "y_train_full"
   ]
  },
  {
   "cell_type": "markdown",
   "metadata": {},
   "source": [
    "## Build and train the model\n",
    "\n",
    "Build and train your model. "
   ]
  },
  {
   "cell_type": "code",
   "execution_count": 7,
   "metadata": {},
   "outputs": [],
   "source": [
    "from tensorflow.keras import layers\n",
    "\n",
    "# Model / data parameters\n",
    "num_classes = 10\n",
    "input_shape = (28, 28, 1)\n",
    "\n",
    "# TODO: Build your model\n",
    "\n",
    "# Create an instance of the model\n",
    "# model = keras.Sequential(\n",
    "#     [\n",
    "#         keras.Input(shape=input_shape),\n",
    "#         layers.Conv2D(32, kernel_size=(3, 3), activation=\"relu\"),\n",
    "#         layers.MaxPooling2D(pool_size=(2, 2)),\n",
    "#         layers.Conv2D(64, kernel_size=(3, 3), activation=\"relu\"),\n",
    "#         layers.MaxPooling2D(pool_size=(2, 2)),\n",
    "#         layers.Flatten(),\n",
    "#         layers.Dropout(0.5),\n",
    "#         layers.Dense(num_classes, activation=\"softmax\"),\n",
    "#     ]\n",
    "# )\n",
    "\n",
    "model = keras.Sequential(\n",
    "    [\n",
    "        keras.Input(shape=input_shape),\n",
    "        layers.Flatten(),\n",
    "        layers.Dense(256, activation=\"relu\"),\n",
    "        layers.Dense(128, activation=\"relu\"),\n",
    "        layers.Dense(64, activation=\"relu\"),\n",
    "        layers.Dense(num_classes,activation=\"softmax\"),\n",
    "    ]\n",
    ")\n"
   ]
  },
  {
   "cell_type": "code",
   "execution_count": 8,
   "metadata": {},
   "outputs": [
    {
     "name": "stdout",
     "output_type": "stream",
     "text": [
      "Model: \"sequential\"\n",
      "_________________________________________________________________\n",
      "Layer (type)                 Output Shape              Param #   \n",
      "=================================================================\n",
      "flatten (Flatten)            (None, 784)               0         \n",
      "_________________________________________________________________\n",
      "dense (Dense)                (None, 256)               200960    \n",
      "_________________________________________________________________\n",
      "dense_1 (Dense)              (None, 128)               32896     \n",
      "_________________________________________________________________\n",
      "dense_2 (Dense)              (None, 64)                8256      \n",
      "_________________________________________________________________\n",
      "dense_3 (Dense)              (None, 10)                650       \n",
      "=================================================================\n",
      "Total params: 242,762\n",
      "Trainable params: 242,762\n",
      "Non-trainable params: 0\n",
      "_________________________________________________________________\n"
     ]
    }
   ],
   "source": [
    "# show the structure of your model\n",
    "model.summary()"
   ]
  },
  {
   "cell_type": "code",
   "execution_count": 9,
   "metadata": {},
   "outputs": [
    {
     "name": "stdout",
     "output_type": "stream",
     "text": [
      "Epoch 1/15\n",
      "\n",
      "Epoch 00001: LearningRateScheduler reducing learning rate to tf.Tensor(0.001, shape=(), dtype=float32).\n",
      "399/399 [==============================] - 1s 3ms/step - loss: 0.5809 - accuracy: 0.8258 - val_loss: 0.1302 - val_accuracy: 0.9632\n",
      "Epoch 2/15\n",
      "\n",
      "Epoch 00002: LearningRateScheduler reducing learning rate to tf.Tensor(0.00090000004, shape=(), dtype=float32).\n",
      "399/399 [==============================] - 1s 2ms/step - loss: 0.1220 - accuracy: 0.9636 - val_loss: 0.0967 - val_accuracy: 0.9712\n",
      "Epoch 3/15\n",
      "\n",
      "Epoch 00003: LearningRateScheduler reducing learning rate to tf.Tensor(0.00081, shape=(), dtype=float32).\n",
      "399/399 [==============================] - 1s 2ms/step - loss: 0.0728 - accuracy: 0.9781 - val_loss: 0.0853 - val_accuracy: 0.9748\n",
      "Epoch 4/15\n",
      "\n",
      "Epoch 00004: LearningRateScheduler reducing learning rate to tf.Tensor(0.00072899996, shape=(), dtype=float32).\n",
      "399/399 [==============================] - 1s 2ms/step - loss: 0.0532 - accuracy: 0.9834 - val_loss: 0.0807 - val_accuracy: 0.9766\n",
      "Epoch 5/15\n",
      "\n",
      "Epoch 00005: LearningRateScheduler reducing learning rate to tf.Tensor(0.00065609993, shape=(), dtype=float32).\n",
      "399/399 [==============================] - 1s 2ms/step - loss: 0.0368 - accuracy: 0.9899 - val_loss: 0.0774 - val_accuracy: 0.9784\n",
      "Epoch 6/15\n",
      "\n",
      "Epoch 00006: LearningRateScheduler reducing learning rate to tf.Tensor(0.00059048994, shape=(), dtype=float32).\n",
      "399/399 [==============================] - 1s 2ms/step - loss: 0.0248 - accuracy: 0.9926 - val_loss: 0.0779 - val_accuracy: 0.9796\n",
      "Epoch 7/15\n",
      "\n",
      "Epoch 00007: LearningRateScheduler reducing learning rate to tf.Tensor(0.00053144095, shape=(), dtype=float32).\n",
      "399/399 [==============================] - 1s 2ms/step - loss: 0.0180 - accuracy: 0.9947 - val_loss: 0.0799 - val_accuracy: 0.9784\n",
      "Epoch 8/15\n",
      "\n",
      "Epoch 00008: LearningRateScheduler reducing learning rate to tf.Tensor(0.00047829683, shape=(), dtype=float32).\n",
      "399/399 [==============================] - 1s 2ms/step - loss: 0.0105 - accuracy: 0.9976 - val_loss: 0.0787 - val_accuracy: 0.9792\n",
      "Epoch 9/15\n",
      "\n",
      "Epoch 00009: LearningRateScheduler reducing learning rate to tf.Tensor(0.00043046716, shape=(), dtype=float32).\n",
      "399/399 [==============================] - 1s 2ms/step - loss: 0.0067 - accuracy: 0.9990 - val_loss: 0.0832 - val_accuracy: 0.9796\n",
      "Epoch 10/15\n",
      "\n",
      "Epoch 00010: LearningRateScheduler reducing learning rate to tf.Tensor(0.0003874204, shape=(), dtype=float32).\n",
      "399/399 [==============================] - 1s 2ms/step - loss: 0.0062 - accuracy: 0.9988 - val_loss: 0.0873 - val_accuracy: 0.9800\n",
      "Epoch 11/15\n",
      "\n",
      "Epoch 00011: LearningRateScheduler reducing learning rate to tf.Tensor(0.00034867835, shape=(), dtype=float32).\n",
      "399/399 [==============================] - 1s 2ms/step - loss: 0.0050 - accuracy: 0.9989 - val_loss: 0.0869 - val_accuracy: 0.9811\n",
      "Epoch 12/15\n",
      "\n",
      "Epoch 00012: LearningRateScheduler reducing learning rate to tf.Tensor(0.0003138105, shape=(), dtype=float32).\n",
      "399/399 [==============================] - 1s 2ms/step - loss: 0.0028 - accuracy: 0.9996 - val_loss: 0.0844 - val_accuracy: 0.9821: 0s - loss: 0.0028 - accuracy: 0.\n",
      "Epoch 13/15\n",
      "\n",
      "Epoch 00013: LearningRateScheduler reducing learning rate to tf.Tensor(0.00028242948, shape=(), dtype=float32).\n",
      "399/399 [==============================] - 1s 3ms/step - loss: 0.0020 - accuracy: 0.9997 - val_loss: 0.0896 - val_accuracy: 0.9820\n",
      "Epoch 14/15\n",
      "\n",
      "Epoch 00014: LearningRateScheduler reducing learning rate to tf.Tensor(0.00025418648, shape=(), dtype=float32).\n",
      "399/399 [==============================] - 1s 3ms/step - loss: 0.0016 - accuracy: 0.9998 - val_loss: 0.0878 - val_accuracy: 0.9824\n",
      "Epoch 15/15\n",
      "\n",
      "Epoch 00015: LearningRateScheduler reducing learning rate to tf.Tensor(0.00022876785, shape=(), dtype=float32).\n",
      "399/399 [==============================] - 1s 3ms/step - loss: 8.2707e-04 - accuracy: 1.0000 - val_loss: 0.0913 - val_accuracy: 0.9823\n"
     ]
    }
   ],
   "source": [
    "batch_size = 128\n",
    "epochs = 15\n",
    "\n",
    "\n",
    "lr_schedule = keras.optimizers.schedules.ExponentialDecay(\n",
    "    initial_learning_rate=1e-3,\n",
    "    decay_steps=1,\n",
    "    decay_rate=0.9)\n",
    "\n",
    "opt = keras.optimizers.Adam(learning_rate=0.001)\n",
    "# lr_metric = get_lr_metric(opt)\n",
    "callback = tf.keras.callbacks.LearningRateScheduler(lr_schedule,verbose=1)\n",
    "\n",
    "model.compile(loss=\"SparseCategoricalCrossentropy\", optimizer=opt, metrics=[\"accuracy\"])\n",
    "\n",
    "history=model.fit(X_train_full, y_train_full, batch_size=batch_size, epochs=epochs,callbacks=[callback],validation_split=0.15)"
   ]
  },
  {
   "cell_type": "code",
   "execution_count": 10,
   "metadata": {},
   "outputs": [
    {
     "data": {
      "image/png": "[encoded data removed]",
      "text/plain": [
       "<Figure size 864x576 with 1 Axes>"
      ]
     },
     "metadata": {
      "needs_background": "light"
     },
     "output_type": "display_data"
    }
   ],
   "source": [
    "# Assume you have stored the training history in the variable \"history\"\n",
    "# Show the learning curves\n",
    "pd.DataFrame(history.history).plot(figsize=(12, 8))\n",
    "plt.gca().set_ylim(0, 1)\n",
    "plt.grid(True)\n",
    "plt.show()"
   ]
  },
  {
   "cell_type": "markdown",
   "metadata": {},
   "source": [
    "## Save the model"
   ]
  },
  {
   "cell_type": "code",
   "execution_count": 15,
   "metadata": {},
   "outputs": [],
   "source": [
    "# Save the weights\n",
    "model.save(\"Checkpoints/mnist.h5\")"
   ]
  },
  {
   "cell_type": "markdown",
   "metadata": {},
   "source": [
    "## Load the model and evaluate it on the test data"
   ]
  },
  {
   "cell_type": "code",
   "execution_count": 16,
   "metadata": {},
   "outputs": [
    {
     "name": "stdout",
     "output_type": "stream",
     "text": [
      "313/313 [==============================] - 0s 622us/step - loss: 0.0812 - accuracy: 0.9816\n"
     ]
    },
    {
     "data": {
      "text/plain": [
       "[0.08122862130403519, 0.9815999865531921]"
      ]
     },
     "execution_count": 16,
     "metadata": {},
     "output_type": "execute_result"
    }
   ],
   "source": [
    "model = keras.models.load_model(\"Checkpoints/mnist.h5\")\n",
    "model.evaluate(X_test, y_test)"
   ]
  },
  {
   "cell_type": "markdown",
   "metadata": {},
   "source": [
    "## Short report\n",
    "\n",
    "Please write briefly how you build and train the model. Please include the decisions you made, such as why you use x number layers, and the difficulties you met."
   ]
  },
  {
   "cell_type": "markdown",
   "metadata": {},
   "source": []
  }
 ],
 "metadata": {
  "kernelspec": {
   "display_name": "Python 3",
   "language": "python",
   "name": "python3"
  },
  "language_info": {
   "codemirror_mode": {
    "name": "ipython",
    "version": 3
   },
   "file_extension": ".py",
   "mimetype": "text/x-python",
   "name": "python",
   "nbconvert_exporter": "python",
   "pygments_lexer": "ipython3",
   "version": "3.8.3"
  }
 },
 "nbformat": 4,
 "nbformat_minor": 4
}
